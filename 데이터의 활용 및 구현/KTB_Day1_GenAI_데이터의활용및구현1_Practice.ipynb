{
  "nbformat": 4,
  "nbformat_minor": 0,
  "metadata": {
    "colab": {
      "provenance": [],
      "authorship_tag": "ABX9TyMZR0F1ON9oMI+Ci4hIa5+k"
    },
    "kernelspec": {
      "name": "python3",
      "display_name": "Python 3"
    },
    "language_info": {
      "name": "python"
    }
  },
  "cells": [
    {
      "cell_type": "markdown",
      "source": [
        "2024.07.01 (월) - DAY1 데이터의 활용 및 구현 1 / 이론 실습"
      ],
      "metadata": {
        "id": "773PHJlsSLR0"
      }
    },
    {
      "cell_type": "code",
      "execution_count": 3,
      "metadata": {
        "colab": {
          "base_uri": "https://localhost:8080/"
        },
        "id": "c_pzC8dlSEbZ",
        "outputId": "b6757e0b-47d3-4f07-c948-09f59260f2d8"
      },
      "outputs": [
        {
          "output_type": "stream",
          "name": "stdout",
          "text": [
            "TOP 1: 비동일 객체 인식 오류 방지 데이터\n",
            "TOP 2: AI 기반 신호 최적화를 위한 데이터\n",
            "TOP 3: 가구·가전·사무기기 사용 모션 캡처 데이터\n"
          ]
        }
      ],
      "source": [
        "import requests\n",
        "from bs4 import BeautifulSoup\n",
        "\n",
        "# AI Hub 페이지 URL\n",
        "url = 'https://www.aihub.or.kr/'\n",
        "\n",
        "# 웹 페이지 요청\n",
        "response = requests.get(url)\n",
        "response.raise_for_status() # 요청이 성공했는지 확인\n",
        "\n",
        "# BeautifulSoup 객체 생성\n",
        "soup = BeautifulSoup(response.content, 'html.parser')\n",
        "\n",
        "# 인기 데이터 TOP3 섹션 찾기\n",
        "top3_section = soup.find('div', class_ = 'secR')\n",
        "\n",
        "# 각 데이터 항목 추출\n",
        "data_list = top3_section.find_all('div', class_='list')\n",
        "\n",
        "# 데이터 제목 추출\n",
        "titles = []\n",
        "for data in data_list:\n",
        "    title = data.find('h3').get_text(strip=True)\n",
        "    clean_title = title.split(']')[-1].strip()\n",
        "    titles.append(clean_title)\n",
        "\n",
        "# 추출한 데이터 출력\n",
        "for idx, title in enumerate(titles, start=1):\n",
        "    print(f\"TOP {idx}: {title}\")"
      ]
    }
  ]
}