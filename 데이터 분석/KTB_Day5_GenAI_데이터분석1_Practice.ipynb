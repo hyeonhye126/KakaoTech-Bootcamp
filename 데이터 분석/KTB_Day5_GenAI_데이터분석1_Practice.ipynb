{
  "nbformat": 4,
  "nbformat_minor": 0,
  "metadata": {
    "colab": {
      "provenance": [],
      "authorship_tag": "ABX9TyP+QDCcckCrRYb6t9wi3Bor"
    },
    "kernelspec": {
      "name": "python3",
      "display_name": "Python 3"
    },
    "language_info": {
      "name": "python"
    }
  },
  "cells": [
    {
      "cell_type": "markdown",
      "source": [
        "2024.07.08 (월) - DAY5 데이터 분석 1 / 이론 실습"
      ],
      "metadata": {
        "id": "erwwSd45g_Vb"
      }
    },
    {
      "cell_type": "code",
      "execution_count": null,
      "metadata": {
        "id": "zzIo94OcQSPt",
        "colab": {
          "base_uri": "https://localhost:8080/"
        },
        "outputId": "aad745d0-ce7a-4290-b5da-365264461b21"
      },
      "outputs": [
        {
          "output_type": "stream",
          "name": "stdout",
          "text": [
            "Dataset URL: https://www.kaggle.com/datasets/ketangangal/heart-disease-dataset-uci\n",
            "License(s): CC0-1.0\n",
            "Downloading heart-disease-dataset-uci.zip to /content\n",
            "  0% 0.00/9.24k [00:00<?, ?B/s]\n",
            "100% 9.24k/9.24k [00:00<00:00, 11.5MB/s]\n"
          ]
        }
      ],
      "source": [
        "! kaggle datasets download -d ketangangal/heart-disease-dataset-uci"
      ]
    },
    {
      "cell_type": "code",
      "source": [
        "! unzip /content/heart-disease-dataset-uci.d"
      ],
      "metadata": {
        "colab": {
          "base_uri": "https://localhost:8080/"
        },
        "id": "ugwrDpfoTJcG",
        "outputId": "c8bdcd96-bcab-4933-ab3c-5b75bd83bb9b"
      },
      "execution_count": null,
      "outputs": [
        {
          "output_type": "stream",
          "name": "stdout",
          "text": [
            "Archive:  /content/heart-disease-dataset-uci.d.zip\n",
            "  inflating: HeartDiseaseTrain-Test.csv  \n"
          ]
        }
      ]
    },
    {
      "cell_type": "markdown",
      "source": [
        "About this file Age Sex : male : 1 female : 0\n",
        "\n",
        "chest pain type -- Value 1: typical angina -- Value 2: atypical angina -- Value 3: non-anginal pain -- Value 4: asymptomatic\n",
        "\n",
        "resting blood pressure (in mm Hg on admission to the hospital\n",
        "\n",
        "serum cholestoral in mg/dl\n",
        "\n",
        "(fasting blood sugar > 120 mg/dl) (1 = true; 0 = false)\n",
        "\n",
        "resting electrocardiographic results\n",
        "\n",
        "-- Value 0: normal -- Value 1: having ST-T wave abnormality (T wave inversions and/or ST elevation or depression of > 0.05 mV) -- Value 2: showing probable or definite left ventricular hypertrophy by Estes' criteria\n",
        "\n",
        "thalach: maximum heart rate achieved\n",
        "\n",
        "exercise induced angina (1 = yes; 0 = no)\n",
        "\n",
        "Angina is chest pain or discomfort caused when your heart muscle doesn't get enough oxygen-rich blood. It may feel like pressure or squeezing in your chest.\n",
        "\n",
        "oldpeak = ST depression induced by exercise relative to rest\n",
        "\n",
        "slope: the slope of the peak exercise ST segment\n",
        "\n",
        "--Value 1: upsloping -- Value 2: flat -- Value 3: downsloping\n",
        "\n",
        "vessels colored by flourosopy : number of major vessels (0-3) colored by flourosopy\n",
        "\n",
        "A blood disorder called thalassemia (3 = normal; 6 = fixed defect; 7 = reversable defect)\n",
        "\n",
        "Target : 0 No Heart disease 1 Heart disease"
      ],
      "metadata": {
        "id": "Pn8adezcUCl6"
      }
    },
    {
      "cell_type": "code",
      "source": [
        "import pandas as pd\n",
        "\n",
        "# 데이터셋 로드\n",
        "data = pd.read_csv('/content/HeartDiseaseTrain-Test.csv')\n",
        "\n",
        "# 데이터의 처음 몇 줄을 출력하여 구조 확인\n",
        "print(\"#\"*10)\n",
        "print(\"데이터의 처음 몇 줄을 출력하여 구조 확인\")\n",
        "print(data.head())\n",
        "\n",
        "# 데이터의 각 컬럼에 대한 정보 확인\n",
        "print(\"#\"*10)\n",
        "print(\"데이터의 각 컬럼에 대한 정보 확인\")\n",
        "print(data.info())"
      ],
      "metadata": {
        "colab": {
          "base_uri": "https://localhost:8080/"
        },
        "id": "DDDy7ZVoTOGP",
        "outputId": "079a5237-8dc2-4fa3-cbeb-19f502e9676b"
      },
      "execution_count": null,
      "outputs": [
        {
          "output_type": "stream",
          "name": "stdout",
          "text": [
            "##########\n",
            "데이터의 처음 몇 줄을 출력하여 구조 확인\n",
            "   age     sex chest_pain_type  resting_blood_pressure  cholestoral  \\\n",
            "0   52    Male  Typical angina                     125          212   \n",
            "1   53    Male  Typical angina                     140          203   \n",
            "2   70    Male  Typical angina                     145          174   \n",
            "3   61    Male  Typical angina                     148          203   \n",
            "4   62  Female  Typical angina                     138          294   \n",
            "\n",
            "      fasting_blood_sugar               rest_ecg  Max_heart_rate  \\\n",
            "0    Lower than 120 mg/ml  ST-T wave abnormality             168   \n",
            "1  Greater than 120 mg/ml                 Normal             155   \n",
            "2    Lower than 120 mg/ml  ST-T wave abnormality             125   \n",
            "3    Lower than 120 mg/ml  ST-T wave abnormality             161   \n",
            "4  Greater than 120 mg/ml  ST-T wave abnormality             106   \n",
            "\n",
            "  exercise_induced_angina  oldpeak        slope vessels_colored_by_flourosopy  \\\n",
            "0                      No      1.0  Downsloping                           Two   \n",
            "1                     Yes      3.1    Upsloping                          Zero   \n",
            "2                     Yes      2.6    Upsloping                          Zero   \n",
            "3                      No      0.0  Downsloping                           One   \n",
            "4                      No      1.9         Flat                         Three   \n",
            "\n",
            "         thalassemia  target  \n",
            "0  Reversable Defect       0  \n",
            "1  Reversable Defect       0  \n",
            "2  Reversable Defect       0  \n",
            "3  Reversable Defect       0  \n",
            "4       Fixed Defect       0  \n",
            "##########\n",
            "데이터의 각 컬럼에 대한 정보 확인\n",
            "<class 'pandas.core.frame.DataFrame'>\n",
            "RangeIndex: 1025 entries, 0 to 1024\n",
            "Data columns (total 14 columns):\n",
            " #   Column                         Non-Null Count  Dtype  \n",
            "---  ------                         --------------  -----  \n",
            " 0   age                            1025 non-null   int64  \n",
            " 1   sex                            1025 non-null   object \n",
            " 2   chest_pain_type                1025 non-null   object \n",
            " 3   resting_blood_pressure         1025 non-null   int64  \n",
            " 4   cholestoral                    1025 non-null   int64  \n",
            " 5   fasting_blood_sugar            1025 non-null   object \n",
            " 6   rest_ecg                       1025 non-null   object \n",
            " 7   Max_heart_rate                 1025 non-null   int64  \n",
            " 8   exercise_induced_angina        1025 non-null   object \n",
            " 9   oldpeak                        1025 non-null   float64\n",
            " 10  slope                          1025 non-null   object \n",
            " 11  vessels_colored_by_flourosopy  1025 non-null   object \n",
            " 12  thalassemia                    1025 non-null   object \n",
            " 13  target                         1025 non-null   int64  \n",
            "dtypes: float64(1), int64(5), object(8)\n",
            "memory usage: 112.2+ KB\n",
            "None\n"
          ]
        }
      ]
    },
    {
      "cell_type": "code",
      "source": [
        "# 데이터 타입 확인\n",
        "print(\"#\"*10)\n",
        "print(\"데이터 타입 확인\")\n",
        "print(\"Data Types:\\n\", data.dtypes)\n",
        "\n",
        "# 범주형 및 수치형 데이터 분리하여 분석\n",
        "categorical_cols = data.select_dtypes(include=['object', 'category']).columns\n",
        "numerical_cols = data.select_dtypes(include=['int64', 'float64']).columns\n",
        "\n",
        "print(\"#\"*10)\n",
        "print(\"범주형 데이터 분리하여 분석\")\n",
        "print(\"\\nCategorical Columns:\\n\", categorical_cols)\n",
        "\n",
        "print(\"#\"*10)\n",
        "print(\"수치형 데이터 분리하여 분석\")\n",
        "print(\"\\nNumerical Columns:\\n\", numerical_cols)"
      ],
      "metadata": {
        "colab": {
          "base_uri": "https://localhost:8080/"
        },
        "id": "L7dXtRFFU6Tm",
        "outputId": "4b6b1ae1-cafe-4569-a49a-c04e4d806141"
      },
      "execution_count": null,
      "outputs": [
        {
          "output_type": "stream",
          "name": "stdout",
          "text": [
            "##########\n",
            "데이터 타입 확인\n",
            "Data Types:\n",
            " age                                int64\n",
            "sex                               object\n",
            "chest_pain_type                   object\n",
            "resting_blood_pressure             int64\n",
            "cholestoral                        int64\n",
            "fasting_blood_sugar               object\n",
            "rest_ecg                          object\n",
            "Max_heart_rate                     int64\n",
            "exercise_induced_angina           object\n",
            "oldpeak                          float64\n",
            "slope                             object\n",
            "vessels_colored_by_flourosopy     object\n",
            "thalassemia                       object\n",
            "target                             int64\n",
            "dtype: object\n",
            "##########\n",
            "범주형 데이터 분리하여 분석\n",
            "\n",
            "Categorical Columns:\n",
            " Index(['sex', 'chest_pain_type', 'fasting_blood_sugar', 'rest_ecg',\n",
            "       'exercise_induced_angina', 'slope', 'vessels_colored_by_flourosopy',\n",
            "       'thalassemia'],\n",
            "      dtype='object')\n",
            "##########\n",
            "수치형 데이터 분리하여 분석\n",
            "\n",
            "Numerical Columns:\n",
            " Index(['age', 'resting_blood_pressure', 'cholestoral', 'Max_heart_rate',\n",
            "       'oldpeak', 'target'],\n",
            "      dtype='object')\n"
          ]
        }
      ]
    },
    {
      "cell_type": "code",
      "source": [
        "# 결측치 확인\n",
        "print(\"\\nMissing Values:\\n\", data.isnull().sum())\n",
        "\n",
        "# 각 범주형 변수의 유니크한 값과 빈도수\n",
        "for col in categorical_cols:\n",
        "    print(f\"\\nUnique values in {col}:\\n\", data[col].value_counts())\n",
        "\n",
        "# 수치형 데이터의 기초 통계\n",
        "print(f\"\\nDescriptive Statistics for Numerical Data:\\n\", data[numerical_cols].describe())"
      ],
      "metadata": {
        "colab": {
          "base_uri": "https://localhost:8080/"
        },
        "id": "zxFQ7cXkWnSG",
        "outputId": "a39af3d3-eafb-4b96-9443-83b74c28b196"
      },
      "execution_count": null,
      "outputs": [
        {
          "output_type": "stream",
          "name": "stdout",
          "text": [
            "\n",
            "Missing Values:\n",
            " age                              0\n",
            "sex                              0\n",
            "chest_pain_type                  0\n",
            "resting_blood_pressure           0\n",
            "cholestoral                      0\n",
            "fasting_blood_sugar              0\n",
            "rest_ecg                         0\n",
            "Max_heart_rate                   0\n",
            "exercise_induced_angina          0\n",
            "oldpeak                          0\n",
            "slope                            0\n",
            "vessels_colored_by_flourosopy    0\n",
            "thalassemia                      0\n",
            "target                           0\n",
            "dtype: int64\n",
            "\n",
            "Unique values in sex:\n",
            " sex\n",
            "Male      713\n",
            "Female    312\n",
            "Name: count, dtype: int64\n",
            "\n",
            "Unique values in chest_pain_type:\n",
            " chest_pain_type\n",
            "Typical angina      497\n",
            "Non-anginal pain    284\n",
            "Atypical angina     167\n",
            "Asymptomatic         77\n",
            "Name: count, dtype: int64\n",
            "\n",
            "Unique values in fasting_blood_sugar:\n",
            " fasting_blood_sugar\n",
            "Lower than 120 mg/ml      872\n",
            "Greater than 120 mg/ml    153\n",
            "Name: count, dtype: int64\n",
            "\n",
            "Unique values in rest_ecg:\n",
            " rest_ecg\n",
            "ST-T wave abnormality           513\n",
            "Normal                          497\n",
            "Left ventricular hypertrophy     15\n",
            "Name: count, dtype: int64\n",
            "\n",
            "Unique values in exercise_induced_angina:\n",
            " exercise_induced_angina\n",
            "No     680\n",
            "Yes    345\n",
            "Name: count, dtype: int64\n",
            "\n",
            "Unique values in slope:\n",
            " slope\n",
            "Flat           482\n",
            "Downsloping    469\n",
            "Upsloping       74\n",
            "Name: count, dtype: int64\n",
            "\n",
            "Unique values in vessels_colored_by_flourosopy:\n",
            " vessels_colored_by_flourosopy\n",
            "Zero     578\n",
            "One      226\n",
            "Two      134\n",
            "Three     69\n",
            "Four      18\n",
            "Name: count, dtype: int64\n",
            "\n",
            "Unique values in thalassemia:\n",
            " thalassemia\n",
            "Fixed Defect         544\n",
            "Reversable Defect    410\n",
            "Normal                64\n",
            "No                     7\n",
            "Name: count, dtype: int64\n",
            "\n",
            "Descriptive Statistics for Numerical Data:\n",
            "                age  resting_blood_pressure  cholestoral  Max_heart_rate  \\\n",
            "count  1025.000000             1025.000000   1025.00000     1025.000000   \n",
            "mean     54.434146              131.611707    246.00000      149.114146   \n",
            "std       9.072290               17.516718     51.59251       23.005724   \n",
            "min      29.000000               94.000000    126.00000       71.000000   \n",
            "25%      48.000000              120.000000    211.00000      132.000000   \n",
            "50%      56.000000              130.000000    240.00000      152.000000   \n",
            "75%      61.000000              140.000000    275.00000      166.000000   \n",
            "max      77.000000              200.000000    564.00000      202.000000   \n",
            "\n",
            "           oldpeak       target  \n",
            "count  1025.000000  1025.000000  \n",
            "mean      1.071512     0.513171  \n",
            "std       1.175053     0.500070  \n",
            "min       0.000000     0.000000  \n",
            "25%       0.000000     0.000000  \n",
            "50%       0.800000     1.000000  \n",
            "75%       1.800000     1.000000  \n",
            "max       6.200000     1.000000  \n"
          ]
        }
      ]
    },
    {
      "cell_type": "code",
      "source": [
        "# 왜도와 첨도 확인\n",
        "\"\"\"\n",
        "왜도(Skewness): 0에 가까울수록 정규분포에 근사, 양의 값은 오른쪽 꼬리가 긴 분포(왼쪽으로 치우친), 음의 값은 왼쪽 꼬리가 긴 분포(오른쪽으로 치우친)\n",
        "첨도(Kurtosis): 0에 가까울수록 정규분포에 근사, 높으면 분포가 뾰족하고, 낮으면 평평\n",
        "\"\"\"\n",
        "\n",
        "print(\"\\nSkewness of the data:\\n\", data[numerical_cols].skew())\n",
        "print(\"\\nKurtosis of the data:\\n\", data[numerical_cols].kurt())"
      ],
      "metadata": {
        "colab": {
          "base_uri": "https://localhost:8080/"
        },
        "id": "hrfCIi1XYMX0",
        "outputId": "445ff50a-7edc-4aa7-8005-1a80e14f3589"
      },
      "execution_count": null,
      "outputs": [
        {
          "output_type": "stream",
          "name": "stdout",
          "text": [
            "\n",
            "Skewness of the data:\n",
            " age                      -0.248866\n",
            "resting_blood_pressure    0.739768\n",
            "cholestoral               1.074073\n",
            "Max_heart_rate           -0.513777\n",
            "oldpeak                   1.210899\n",
            "target                   -0.052778\n",
            "dtype: float64\n",
            "\n",
            "Kurtosis of the data:\n",
            " age                      -0.525618\n",
            "resting_blood_pressure    0.991221\n",
            "cholestoral               3.996803\n",
            "Max_heart_rate           -0.088822\n",
            "oldpeak                   1.314471\n",
            "target                   -2.001123\n",
            "dtype: float64\n"
          ]
        }
      ]
    },
    {
      "cell_type": "code",
      "source": [
        "\"\"\"\n",
        "상관계수 값이 1에 가까울수록 완벽한 양의 상관관계, -1에 가까울수록 완벽한 음의 상관관계를 나타냅니다.\n",
        "\"\"\"\n",
        "\n",
        "# 피어슨 상관 계수\n",
        "print(\"Pearson Correlation:\\n\", data[numerical_cols].corr(method='pearson'))\n",
        "\n",
        "# 스피어만 상관 계수\n",
        "print(\"\\Spearman Correlation:\\n\", data[numerical_cols].corr(method='spearman'))"
      ],
      "metadata": {
        "colab": {
          "base_uri": "https://localhost:8080/"
        },
        "id": "_sVFmA9IYsaM",
        "outputId": "8887ad1a-f96b-4160-a7ca-f3f9305c160a"
      },
      "execution_count": null,
      "outputs": [
        {
          "output_type": "stream",
          "name": "stdout",
          "text": [
            "Pearson Correlation:\n",
            "                              age  resting_blood_pressure  cholestoral  \\\n",
            "age                     1.000000                0.271121     0.219823   \n",
            "resting_blood_pressure  0.271121                1.000000     0.127977   \n",
            "cholestoral             0.219823                0.127977     1.000000   \n",
            "Max_heart_rate         -0.390227               -0.039264    -0.021772   \n",
            "oldpeak                 0.208137                0.187434     0.064880   \n",
            "target                 -0.229324               -0.138772    -0.099966   \n",
            "\n",
            "                        Max_heart_rate   oldpeak    target  \n",
            "age                          -0.390227  0.208137 -0.229324  \n",
            "resting_blood_pressure       -0.039264  0.187434 -0.138772  \n",
            "cholestoral                  -0.021772  0.064880 -0.099966  \n",
            "Max_heart_rate                1.000000 -0.349796  0.422895  \n",
            "oldpeak                      -0.349796  1.000000 -0.438441  \n",
            "target                        0.422895 -0.438441  1.000000  \n",
            "\\Spearman Correlation:\n",
            "                              age  resting_blood_pressure  cholestoral  \\\n",
            "age                     1.000000                0.280189     0.203253   \n",
            "resting_blood_pressure  0.280189                1.000000     0.127010   \n",
            "cholestoral             0.203253                0.127010     1.000000   \n",
            "Max_heart_rate         -0.382724               -0.028880    -0.054794   \n",
            "oldpeak                 0.264500                0.146722     0.057102   \n",
            "target                 -0.240326               -0.115009    -0.132926   \n",
            "\n",
            "                        Max_heart_rate   oldpeak    target  \n",
            "age                          -0.382724  0.264500 -0.240326  \n",
            "resting_blood_pressure       -0.028880  0.146722 -0.115009  \n",
            "cholestoral                  -0.054794  0.057102 -0.132926  \n",
            "Max_heart_rate                1.000000 -0.439987  0.429832  \n",
            "oldpeak                      -0.439987  1.000000 -0.437669  \n",
            "target                        0.429832 -0.437669  1.000000  \n"
          ]
        }
      ]
    },
    {
      "cell_type": "markdown",
      "source": [
        "- 피어슨 상관 계수가 1에 가까울수록 두 변수 간에 강한 양의 선형 관계가 있음을 나타낸다. -1에 가까울수록 강한 음의 선형 관계가 있다.\n",
        "- 스피어만 상관 계수는 변수들 간의 순위 상관 관계를 나타내므로, 선형이 아닌 관계에도 적용할 수 있다."
      ],
      "metadata": {
        "id": "e6NxwAMd2Nk7"
      }
    },
    {
      "cell_type": "code",
      "source": [
        "from scipy import stats\n",
        "\n",
        "\"\"\"\n",
        "T-통계량의 절대값이 크면 클수록 두 그룹 간의 차이가 크다고 할 수 있다.\n",
        "일반적으로 P-값이 0.5보다 작으면 귀무 가설을 기각하고, 통계적으로 유의미한 차이가 있음을 인정한다.\n",
        "\"\"\"\n",
        "\n",
        "# 남성과 여성 그룹 데이터 분할\n",
        "male_max_hr = data[data['sex'] == 'Male']['Max_heart_rate']\n",
        "female_max_hr = data[data['sex'] == 'Female']['Max_heart_rate']\n",
        "\n",
        "# 두 그룹 간의 평균 최대 심박수 차이 검정\n",
        "# stats.ttest_ind() 함수를 사용하여 두 그룹 간의 t-통계량과 p-값을 계산\n",
        "t_stat, p_val = stats.ttest_ind(male_max_hr, female_max_hr)\n",
        "print(f\"T-statistic: {t_stat}, P-value: {p_val}\")"
      ],
      "metadata": {
        "colab": {
          "base_uri": "https://localhost:8080/"
        },
        "id": "MBP8nSTuZ1Ee",
        "outputId": "7f4fca6f-5a52-405d-ccc2-fa0ca7bc2c58"
      },
      "execution_count": null,
      "outputs": [
        {
          "output_type": "stream",
          "name": "stdout",
          "text": [
            "T-statistic: -1.5808436320867354, P-value: 0.1142229084355055\n"
          ]
        }
      ]
    },
    {
      "cell_type": "markdown",
      "source": [
        "- 주어진 데이터에서 'sex' 열 값이 'Male'인 경우와 'Female'인 경우로 데이터를 분할한다.\n",
        "- 각 그룹에 속하는 개인들의 최대 심박수('Max_heart_rate')를 추출하여 male_max_hr과 female_max_hr에 저장한다.\n",
        "- t-통계량은 두 그룹의 평균 차이가 얼마나 큰지를 나타내며, 절대값이 클수록 두 그룹 간의 차이가 크다는 것을 의미한다.\n",
        "- p-값은 귀무 가설을 기각할 수 있는 유의수준을 나타내며, 일반적으로 0.05보다 작으면 두 그룹 간의 차이가 통계적으로 유의미하다고 판단된다.\n",
        "- 여기서 T-statistic이 -1.5808로 나왔으므로, 남성과 여성의 평균 최대 심박수에는 차이가 있을 수 있지만, 그 크기가 얼마나 큰지는 P-value와 함께 판단해야 한다.\n",
        "- 주어진 P-value는 0.1142로, 일반적인 유의수준인 0.05보다 크다. 따라서 이 경우에는 통계적으로 유의미한 차이가 있다고 보기 어렵다. 즉, 남성과 여성의 평균 최대 심박수 차이가 통계적으로 유의미하지 않을 가능성이 높다."
      ],
      "metadata": {
        "id": "eqHyZ3cP1Cw8"
      }
    },
    {
      "cell_type": "code",
      "source": [
        "male_max_hr"
      ],
      "metadata": {
        "colab": {
          "base_uri": "https://localhost:8080/"
        },
        "id": "mH_Z6Bxdz1AL",
        "outputId": "1b8cb5ff-efa0-44df-dc8b-0ace488d50a9"
      },
      "execution_count": null,
      "outputs": [
        {
          "output_type": "execute_result",
          "data": {
            "text/plain": [
              "0       168\n",
              "1       155\n",
              "2       125\n",
              "3       161\n",
              "6       140\n",
              "       ... \n",
              "1019    143\n",
              "1020    164\n",
              "1021    141\n",
              "1022    118\n",
              "1024    113\n",
              "Name: Max_heart_rate, Length: 713, dtype: int64"
            ]
          },
          "metadata": {},
          "execution_count": 15
        }
      ]
    }
  ]
}