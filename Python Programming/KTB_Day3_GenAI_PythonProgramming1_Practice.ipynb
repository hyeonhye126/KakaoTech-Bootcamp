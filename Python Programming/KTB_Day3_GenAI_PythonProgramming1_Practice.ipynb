{
  "nbformat": 4,
  "nbformat_minor": 0,
  "metadata": {
    "colab": {
      "provenance": [],
      "authorship_tag": "ABX9TyPensGymZ8F7qnDWMkkbMTh"
    },
    "kernelspec": {
      "name": "python3",
      "display_name": "Python 3"
    },
    "language_info": {
      "name": "python"
    }
  },
  "cells": [
    {
      "cell_type": "markdown",
      "source": [
        "2024.07.04 (수) - DAY3 Python Programming 1 / 이론 실습"
      ],
      "metadata": {
        "id": "zDMvjda4-BFU"
      }
    },
    {
      "cell_type": "markdown",
      "source": [
        "파이썬 기본 문법 복습\n",
        "\n",
        "- 변수와 자료형: 파이썬은 동적 타이핑 언어로, 변수 선언 시 자료형을 명시하지 않아도 됩니다.\n",
        "- 기본 연산 및 조건문: 수학적 연산자와 논리 연산자를 사용하여 조건문을 작성할 수 있습니다.\n",
        "- 반복문: for와 while을 사용하여 반복 작업을 수행할 수 있습니다."
      ],
      "metadata": {
        "id": "nDqf_dAEu9yf"
      }
    },
    {
      "cell_type": "code",
      "execution_count": null,
      "metadata": {
        "id": "RC4doVTfuwfw"
      },
      "outputs": [],
      "source": [
        "# 변수 -> 데이터를 저장하는 메모리 공간에 이름을 붙인 것\n",
        "x = 10 # 정수형 변수\n",
        "y = 3.14 # 실수형 변수\n",
        "name = \"Alice\" # 문자열 변수"
      ]
    },
    {
      "cell_type": "code",
      "source": [
        "print(type(x))\n",
        "print(type(y))\n",
        "print(type(name))"
      ],
      "metadata": {
        "colab": {
          "base_uri": "https://localhost:8080/"
        },
        "id": "3z_KKviGvKqf",
        "outputId": "9399af62-16ad-4afb-c410-a2b28208d8dd"
      },
      "execution_count": null,
      "outputs": [
        {
          "output_type": "stream",
          "name": "stdout",
          "text": [
            "<class 'int'>\n",
            "<class 'float'>\n",
            "<class 'str'>\n"
          ]
        }
      ]
    },
    {
      "cell_type": "code",
      "source": [
        "# 자료형\n",
        "a = 5 #int\n",
        "b = 3.2 # float\n",
        "c = \"Hello\"\n",
        "d = True # bool"
      ],
      "metadata": {
        "id": "3MPLAz3kvOmq"
      },
      "execution_count": null,
      "outputs": []
    },
    {
      "cell_type": "code",
      "source": [
        "print(type(a))\n",
        "print(type(b))\n",
        "print(type(c))\n",
        "print(type(d))"
      ],
      "metadata": {
        "colab": {
          "base_uri": "https://localhost:8080/"
        },
        "id": "jiY3OLAjvW6e",
        "outputId": "c85da47b-f3d8-483b-f474-8103d78f50d9"
      },
      "execution_count": null,
      "outputs": [
        {
          "output_type": "stream",
          "name": "stdout",
          "text": [
            "<class 'int'>\n",
            "<class 'float'>\n",
            "<class 'str'>\n",
            "<class 'bool'>\n"
          ]
        }
      ]
    },
    {
      "cell_type": "code",
      "source": [
        "# 자료형 변환\n",
        "num_str = \"123\"\n",
        "print(type(num_str))\n",
        "num = int(num_str)\n",
        "print(type(num))\n",
        "print(num_str)\n",
        "print(num)"
      ],
      "metadata": {
        "colab": {
          "base_uri": "https://localhost:8080/"
        },
        "id": "GsAUengRvdcK",
        "outputId": "cb263a1b-ff0c-43e3-e48d-993152517447"
      },
      "execution_count": null,
      "outputs": [
        {
          "output_type": "stream",
          "name": "stdout",
          "text": [
            "<class 'str'>\n",
            "<class 'int'>\n",
            "123\n",
            "123\n"
          ]
        }
      ]
    },
    {
      "cell_type": "code",
      "source": [
        "# 기본 연산\n",
        "a = 10\n",
        "b = 3\n",
        "print(a + b) # 덧셈\n",
        "print(a > b) # 비교 연산\n",
        "print(a > 5 and b < 5) # 논리 연산"
      ],
      "metadata": {
        "colab": {
          "base_uri": "https://localhost:8080/"
        },
        "id": "E0CnmtoYvpUn",
        "outputId": "17b0792f-668b-4e2c-8162-6e8620f3af62"
      },
      "execution_count": null,
      "outputs": [
        {
          "output_type": "stream",
          "name": "stdout",
          "text": [
            "13\n",
            "True\n",
            "True\n"
          ]
        }
      ]
    },
    {
      "cell_type": "code",
      "source": [
        "# 조건문\n",
        "age = 20\n",
        "if age < 18:\n",
        "    print(\"미성년자\")\n",
        "elif age == 18:\n",
        "    print(\"갓 성인\")\n",
        "else:\n",
        "    print(\"성인\")"
      ],
      "metadata": {
        "colab": {
          "base_uri": "https://localhost:8080/"
        },
        "id": "sBAwL4C0v2mk",
        "outputId": "78a22d64-bdff-45c2-b85f-24edcec130f5"
      },
      "execution_count": null,
      "outputs": [
        {
          "output_type": "stream",
          "name": "stdout",
          "text": [
            "성인\n"
          ]
        }
      ]
    },
    {
      "cell_type": "code",
      "source": [
        "# for 문 -> 리스트, 튜플 등 시퀀스 자료형의 요소를 반복\n",
        "fruits = ['apple', 'banana', 'cherry']\n",
        "for fruit in fruits:\n",
        "    print(fruit)"
      ],
      "metadata": {
        "colab": {
          "base_uri": "https://localhost:8080/"
        },
        "id": "vGWkymGRwR_l",
        "outputId": "dcc14f00-2dec-4d9a-f937-3bc0296ec005"
      },
      "execution_count": null,
      "outputs": [
        {
          "output_type": "stream",
          "name": "stdout",
          "text": [
            "apple\n",
            "banana\n",
            "cherry\n"
          ]
        }
      ]
    },
    {
      "cell_type": "code",
      "source": [
        "# for 문과 range() 함수 -> 정해진 횟수만큼 반복\n",
        "for i in range(5):\n",
        "    print(i)"
      ],
      "metadata": {
        "colab": {
          "base_uri": "https://localhost:8080/"
        },
        "id": "ZGmSd-31wGfc",
        "outputId": "0c389482-49d3-43ba-883d-135035d420ea"
      },
      "execution_count": null,
      "outputs": [
        {
          "output_type": "stream",
          "name": "stdout",
          "text": [
            "0\n",
            "1\n",
            "2\n",
            "3\n",
            "4\n"
          ]
        }
      ]
    },
    {
      "cell_type": "code",
      "source": [
        "# while ans -> 조건이 참인 동안 반복\n",
        "count = 0\n",
        "while count < 5:\n",
        "    print(count)\n",
        "    count += 1"
      ],
      "metadata": {
        "colab": {
          "base_uri": "https://localhost:8080/"
        },
        "id": "Wi8VO4BWwQJe",
        "outputId": "e89d891f-920f-4a5a-92ab-b38b76b73f86"
      },
      "execution_count": null,
      "outputs": [
        {
          "output_type": "stream",
          "name": "stdout",
          "text": [
            "0\n",
            "1\n",
            "2\n",
            "3\n",
            "4\n"
          ]
        }
      ]
    },
    {
      "cell_type": "code",
      "source": [
        "# break -> 반복문 즉시 종료, continue -> 현재 반복을 건너 뛰고 다음 반복으로 이동\n",
        "for i in range(10):\n",
        "    if i == 5:\n",
        "        break\n",
        "    print(i)"
      ],
      "metadata": {
        "colab": {
          "base_uri": "https://localhost:8080/"
        },
        "id": "nYpdxGsA1bcq",
        "outputId": "4449160f-47be-4cb0-e2aa-3718256648a9"
      },
      "execution_count": null,
      "outputs": [
        {
          "output_type": "stream",
          "name": "stdout",
          "text": [
            "0\n",
            "1\n",
            "2\n",
            "3\n",
            "4\n"
          ]
        }
      ]
    },
    {
      "cell_type": "code",
      "source": [
        "# break -> 반복문을 즉시 종료, coutinue -> 현재 반복을 건너뛰고 다음 반복으로 이동\n",
        "for i in range(10):\n",
        "    if i == 5:\n",
        "        break\n",
        "    print(i)\n",
        "\n",
        "print(\"*\"*10)\n",
        "\n",
        "for i in range(10):\n",
        "    if i % 2 == 0:\n",
        "        continue # 짝수 건너뛰기\n",
        "    print(i)"
      ],
      "metadata": {
        "colab": {
          "base_uri": "https://localhost:8080/"
        },
        "id": "H8Rogb681-k4",
        "outputId": "8fc496fe-bae1-40d3-b2c1-641b9c09c721"
      },
      "execution_count": null,
      "outputs": [
        {
          "output_type": "stream",
          "name": "stdout",
          "text": [
            "0\n",
            "1\n",
            "2\n",
            "3\n",
            "4\n",
            "**********\n",
            "1\n",
            "3\n",
            "5\n",
            "7\n",
            "9\n"
          ]
        }
      ]
    },
    {
      "cell_type": "markdown",
      "source": [
        "파이썬 프로그래밍 함수"
      ],
      "metadata": {
        "id": "qRmbG_Az3wHb"
      }
    },
    {
      "cell_type": "code",
      "source": [
        "# 함수\n",
        "\"\"\"\n",
        "def 함수이름(매개변수):\n",
        "    코드 블록\n",
        "    return 반환값\n",
        "\"\"\"\n",
        "def greet(home):\n",
        "    return f\"Hello, {name}!\""
      ],
      "metadata": {
        "id": "5GUOnXTz3xUy"
      },
      "execution_count": null,
      "outputs": []
    },
    {
      "cell_type": "code",
      "source": [
        "result = greet(\"Bob\")\n",
        "print(result)"
      ],
      "metadata": {
        "colab": {
          "base_uri": "https://localhost:8080/"
        },
        "id": "sJK8IxDx38EN",
        "outputId": "6d78582c-9278-4ab8-d211-5aad989ff18f"
      },
      "execution_count": null,
      "outputs": [
        {
          "output_type": "stream",
          "name": "stdout",
          "text": [
            "Hello, Alice!\n"
          ]
        }
      ]
    },
    {
      "cell_type": "code",
      "source": [
        "# lambda 함수\n",
        "# lambda 매개변수: 변환값\n",
        "square = lambda x: x ** 2\n",
        "print(square(5))"
      ],
      "metadata": {
        "colab": {
          "base_uri": "https://localhost:8080/"
        },
        "id": "hY1bA6mZ4xUt",
        "outputId": "14a27287-7d20-42f5-b769-4e1ba05b14df"
      },
      "execution_count": null,
      "outputs": [
        {
          "output_type": "stream",
          "name": "stdout",
          "text": [
            "25\n"
          ]
        }
      ]
    },
    {
      "cell_type": "code",
      "source": [
        "# map 함수의 인자로 사용\n",
        "numbers = [1, 2, 3, 4, 5]\n",
        "squares = list(map(lambda x: x ** 2, numbers))\n",
        "print(squares)"
      ],
      "metadata": {
        "colab": {
          "base_uri": "https://localhost:8080/"
        },
        "id": "icCfoXOM480j",
        "outputId": "c0a14e15-805b-4204-e2a1-2dedcc529f26"
      },
      "execution_count": null,
      "outputs": [
        {
          "output_type": "stream",
          "name": "stdout",
          "text": [
            "[1, 4, 9, 16, 25]\n"
          ]
        }
      ]
    },
    {
      "cell_type": "code",
      "source": [
        "# 가변 인자 (*args)\n",
        "\"\"\"\n",
        "def 함수이름(*args):\n",
        "    코드 블록\n",
        "\"\"\"\n",
        "def add(*args):\n",
        "    return sum(args)\n",
        "\n",
        "print(add(1, 2, 3, 4))"
      ],
      "metadata": {
        "colab": {
          "base_uri": "https://localhost:8080/"
        },
        "id": "oaW4qL_55GH7",
        "outputId": "4965651e-bdf8-4deb-ed00-4c824e89dc66"
      },
      "execution_count": null,
      "outputs": [
        {
          "output_type": "stream",
          "name": "stdout",
          "text": [
            "10\n"
          ]
        }
      ]
    },
    {
      "cell_type": "code",
      "source": [
        "# 키워드 가변 인자 (**kwargs)\n",
        "\"\"\"\n",
        "def 함수이름(**kwargs):\n",
        "    코드 블록\n",
        "\"\"\"\n",
        "def introduce(**kwargs):\n",
        "    for key, value in kwargs.items():\n",
        "        print(f\"{key}: {value}\")\n",
        "\n",
        "introduce(name=\"Alice\", age=30, city=\"Seoul\")"
      ],
      "metadata": {
        "colab": {
          "base_uri": "https://localhost:8080/"
        },
        "id": "hgoHyCmu5SBW",
        "outputId": "f69b810b-d5ec-4995-837f-2f5c663d3170"
      },
      "execution_count": null,
      "outputs": [
        {
          "output_type": "stream",
          "name": "stdout",
          "text": [
            "name: Alice\n",
            "age: 30\n",
            "city: Seoul\n"
          ]
        }
      ]
    },
    {
      "cell_type": "code",
      "source": [
        "# map 함수, 모든 요소에 함수를 적용하여 새로운 리스트 반환\n",
        "numbers = [1, 2, 3, 4]\n",
        "squares = list(map(lambda x: x ** 2, numbers))\n",
        "print(squares)\n",
        "\n",
        "# filter 함수, 조건에 맞는 요소만 걸러내어 새로운 리스트 반환\n",
        "numbers = [1, 2, 3, 4, 5]\n",
        "evens = list(filter(lambda x: x % 2 == 0, numbers))\n",
        "print(evens)\n",
        "\n",
        "# reduce 함수, 모든 요소를 누적하여 단일 값을 반환\n",
        "from functools import reduce\n",
        "numbers = [1, 2, 3, 4]\n",
        "product = reduce(lambda x, y: x * y, numbers)\n",
        "print(product)"
      ],
      "metadata": {
        "colab": {
          "base_uri": "https://localhost:8080/"
        },
        "id": "mDpy-uzH5nXe",
        "outputId": "7a2636f0-e2f1-4d32-de7f-f9478868c91d"
      },
      "execution_count": null,
      "outputs": [
        {
          "output_type": "stream",
          "name": "stdout",
          "text": [
            "[1, 4, 9, 16]\n",
            "[2, 4]\n",
            "24\n"
          ]
        }
      ]
    },
    {
      "cell_type": "markdown",
      "source": [
        "클래스와 객체지향 프로그래밍"
      ],
      "metadata": {
        "id": "zqxD6HmN6ZNg"
      }
    },
    {
      "cell_type": "code",
      "source": [
        "# 클래스 -> 객체를 정의하는 데 사용되는 청사진\n",
        "\"\"\"\n",
        "class 클래스이름:\n",
        "    def __init__(self, 매개변수):\n",
        "        self.속성 = 매개변수\n",
        "\n",
        "    def 메서드이름(self, 매개변수):\n",
        "        코드 블록\n",
        "\"\"\"\n",
        "class Dog:\n",
        "    def __init__(self, name, age):\n",
        "        self.name = name\n",
        "        self.age = age\n",
        "\n",
        "    def bark(self):\n",
        "        return \"Woof!\"\n",
        "\n",
        "# 인스턴스 생성\n",
        "my_dog = Dog(\"Buddy\", 3)\n",
        "print(my_dog.name)\n",
        "print(my_dog.bark())"
      ],
      "metadata": {
        "colab": {
          "base_uri": "https://localhost:8080/"
        },
        "id": "XxIhYINT57hS",
        "outputId": "eaaa2803-b900-4b46-8cfa-2ad5e0e5676c"
      },
      "execution_count": null,
      "outputs": [
        {
          "output_type": "stream",
          "name": "stdout",
          "text": [
            "Buddy\n",
            "Woof!\n"
          ]
        }
      ]
    },
    {
      "cell_type": "code",
      "source": [
        "# 상속 -> 기존 클래스(부모 클래스)를 기반으로 새로운 클래스(지식 클래스)를 정의하는 것\n",
        "\"\"\"\n",
        "class 부모클래스:\n",
        "    # 부모 클래스의 속성과 메서드 정의\n",
        "\n",
        "class 자식클래스(부모클래스):\n",
        "    # 지식 클래스의 속성과 메서드 정의\n",
        "\"\"\"\n",
        "\n",
        "class Animal:\n",
        "    def __init__(self, name):\n",
        "        self.name = name\n",
        "\n",
        "    def speak(self):\n",
        "        raise NotImplementedError(\"Subclass must implement abstract method\")\n",
        "\n",
        "class Dog(Animal): # Animal 상속\n",
        "    def speak(self):\n",
        "        return \"Woof!\"\n",
        "\n",
        "class Cat(Animal):\n",
        "    def speak(self):\n",
        "        return \"Meow!\""
      ],
      "metadata": {
        "id": "O-fQD3pB74Aw"
      },
      "execution_count": null,
      "outputs": []
    },
    {
      "cell_type": "code",
      "source": [
        "# 다형성 -> 동일한 인터페이스를 사용하여 서로 다른 데이터 타입의 객체를 다룰 수 있는 능력\n",
        "\n",
        "animals = [Dog(\"Buddy\"), Cat(\"Whiskers\")]\n",
        "for animal in animals:\n",
        "    print(f\"{animal.name} says {animal.speak()}\")"
      ],
      "metadata": {
        "colab": {
          "base_uri": "https://localhost:8080/"
        },
        "id": "uK_c6Y9CiDvc",
        "outputId": "9feafb0a-b564-40c0-eedf-8374a56c8adb"
      },
      "execution_count": null,
      "outputs": [
        {
          "output_type": "stream",
          "name": "stdout",
          "text": [
            "Buddy says Woof!\n",
            "Whiskers says Meow!\n"
          ]
        }
      ]
    },
    {
      "cell_type": "code",
      "source": [
        "# 매직 메서드 (Magic Methods) -> 파이썬이 내부적으로 사용하는 메서드\n",
        "\"\"\"\n",
        "__init__: 객체 초기화 메서드\n",
        "__str__: 객체의 문자열 표현\n",
        "__repr__: 객체의 공식 문자열 표현을 반환\n",
        "\"\"\"\n",
        "\n",
        "class Book:\n",
        "    def __init__(self, title, author):\n",
        "        self.title = title\n",
        "        self.author = author\n",
        "\n",
        "    def __str__(self):\n",
        "        return f\"{self.title} by {self.author}\"\n",
        "\n",
        "    def __repr__(self):\n",
        "        return f\"Book({self.title}, {self.author})\"\n",
        "\n",
        "my_book = Book(\"1984\", \"George Orwell\")\n",
        "print(str(my_book))\n",
        "print(repr(my_book))"
      ],
      "metadata": {
        "colab": {
          "base_uri": "https://localhost:8080/"
        },
        "id": "vF7lolWImyHz",
        "outputId": "15e0a7f5-a920-4c5b-b349-8ca96f5afaa0"
      },
      "execution_count": null,
      "outputs": [
        {
          "output_type": "stream",
          "name": "stdout",
          "text": [
            "1984 by George Orwell\n",
            "Book(1984, George Orwell)\n"
          ]
        }
      ]
    },
    {
      "cell_type": "code",
      "source": [
        "# 연산자 오버로딩 -> 파이썬의 기본 연산자를 사용한 정의 클래스에서 사용할 수 있도록 메서드를 정의\n",
        "\"\"\"\n",
        "__add__: + 연산자\n",
        "__sub__: - 연산자\n",
        "__mul__: * 연산자\n",
        "__truediv__: / 연산자\n",
        "\"\"\"\n",
        "class Vector:\n",
        "    def __init__(self, x, y):\n",
        "        self.x = x\n",
        "        self.y = y\n",
        "\n",
        "    def __add__(self, other):\n",
        "        return Vector(self.x + other.x, self.y + other.y)\n",
        "\n",
        "    def __str__(self):\n",
        "        return f\"Vector({self.x}, {self.y})\"\n",
        "\n",
        "v1 = Vector(2, 3)\n",
        "v2 = Vector(5, 7)\n",
        "v3 = v1 + v2\n",
        "print(v3)\n"
      ],
      "metadata": {
        "colab": {
          "base_uri": "https://localhost:8080/"
        },
        "id": "LhnCPkX3wdE9",
        "outputId": "31c9468c-f7d1-4e8b-d184-cb4efacd2b59"
      },
      "execution_count": null,
      "outputs": [
        {
          "output_type": "stream",
          "name": "stdout",
          "text": [
            "Vector(7, 10)\n"
          ]
        }
      ]
    },
    {
      "cell_type": "markdown",
      "source": [
        "제너레이터와 이터레이터"
      ],
      "metadata": {
        "id": "x8lKgbltxHY1"
      }
    },
    {
      "cell_type": "code",
      "source": [
        "# 이터레이터 클래스\n",
        "class Counter:\n",
        "    def __init__(self, max):\n",
        "        # 이터레이터의 최대 값 설정\n",
        "        self.max = max\n",
        "        # 현재 값을 0으로 초기화\n",
        "        self.current = 0\n",
        "\n",
        "    def __iter__(self):\n",
        "        # __iter__ 메서드는 이터레이터 객체 자체를 반환해야 함\n",
        "        return self\n",
        "\n",
        "    def __next__(self):\n",
        "        # __next__ 메서드는 다음 값을 반환\n",
        "        if self.current < self.max:\n",
        "            # 현재 값을 1 증가\n",
        "            self.current += 1\n",
        "            # 현재 값을 반환\n",
        "            return self.current\n",
        "        else:\n",
        "            # 현재 값이 최대 값 이상이면 StopIteration 예외 발생\n",
        "            raise StopIteration\n",
        "\n",
        "# Counter 클래스의 인스턴스를 생성\n",
        "counter = Counter(5)\n",
        "\n",
        "# 이터레이터를 사용하여 값을 반복 출력\n",
        "for num in counter:\n",
        "    print(num)\n"
      ],
      "metadata": {
        "colab": {
          "base_uri": "https://localhost:8080/"
        },
        "id": "qsqQfgDtxI14",
        "outputId": "b88942a3-853e-46c4-ccb9-2003b484c84d"
      },
      "execution_count": null,
      "outputs": [
        {
          "output_type": "stream",
          "name": "stdout",
          "text": [
            "1\n",
            "2\n",
            "3\n",
            "4\n",
            "5\n"
          ]
        }
      ]
    },
    {
      "cell_type": "code",
      "source": [
        "# 제너레이터 함수\n",
        "def count_up_to(max):\n",
        "    # 카운트 초기값을 1로 설정\n",
        "    count = 1\n",
        "    # 카운트 최대 값보다 작거나 같은 동안 반복\n",
        "    while count <= max:\n",
        "        # 현재 카운트 값을 반환하고 함수의 실행 상태를 유지\n",
        "        yield count\n",
        "        # 카운트를 1 증가\n",
        "        count += 1\n",
        "\n",
        "# 제너레이터 객체 생성\n",
        "counter = count_up_to(5)\n",
        "\n",
        "# 제너레이터를 사용하여 값을 반복 출력\n",
        "for num in counter:\n",
        "    print(num)"
      ],
      "metadata": {
        "colab": {
          "base_uri": "https://localhost:8080/"
        },
        "id": "9-SfqLPL2Fgg",
        "outputId": "89b465a4-71fd-406b-dad9-07cfe1020512"
      },
      "execution_count": null,
      "outputs": [
        {
          "output_type": "stream",
          "name": "stdout",
          "text": [
            "1\n",
            "2\n",
            "3\n",
            "4\n",
            "5\n"
          ]
        }
      ]
    },
    {
      "cell_type": "code",
      "source": [
        "# yield 키워드 -> 제너레이터 함수에서 값을 반환하고 함수의 실행 상태를 일시 중지\n",
        "def simple_generator():\n",
        "    yield 1\n",
        "    yield 2\n",
        "    yield 3\n",
        "\n",
        "gen = simple_generator()\n",
        "print(next(gen))\n",
        "print(next(gen))\n",
        "print(next(gen))"
      ],
      "metadata": {
        "colab": {
          "base_uri": "https://localhost:8080/"
        },
        "id": "2ooArqdS2nij",
        "outputId": "f4fa8ea6-d30e-4288-b66b-00b27333dffc"
      },
      "execution_count": null,
      "outputs": [
        {
          "output_type": "stream",
          "name": "stdout",
          "text": [
            "1\n",
            "2\n",
            "3\n"
          ]
        }
      ]
    },
    {
      "cell_type": "markdown",
      "source": [
        "파일 입출력"
      ],
      "metadata": {
        "id": "CmljaLex23rk"
      }
    },
    {
      "cell_type": "code",
      "source": [
        "# 파일 쓰기\n",
        "with open('example.txt', 'w') as file:\n",
        "    file.write('Hello, world!')\n",
        "\n",
        "# 파일 읽기\n",
        "with open('example.txt', 'r') as file:\n",
        "    content = file.read()\n",
        "    print(content)"
      ],
      "metadata": {
        "colab": {
          "base_uri": "https://localhost:8080/"
        },
        "id": "obm6lYIX245J",
        "outputId": "652451e6-c692-488d-b2ae-e7c42e00f84d"
      },
      "execution_count": null,
      "outputs": [
        {
          "output_type": "stream",
          "name": "stdout",
          "text": [
            "Hello, world!\n"
          ]
        }
      ]
    },
    {
      "cell_type": "code",
      "source": [
        "# 파일 쓰기\n",
        "with open('example.txt', 'w') as file:\n",
        "    file.write('Hello, world!')\n",
        "\n",
        "# 여러 줄 쓰기\n",
        "lines = ['First line\\n', 'Second line\\n', 'Third line\\n']\n",
        "with open('example.txt', 'w') as file:\n",
        "    file.writelines(lines)"
      ],
      "metadata": {
        "id": "AFpRFSd33XP_"
      },
      "execution_count": null,
      "outputs": []
    },
    {
      "cell_type": "code",
      "source": [
        "# 파일 전체 읽기\n",
        "with open('example.txt', 'r') as file:\n",
        "    content = file.read()\n",
        "    print(content)\n",
        "\n",
        "# 파일 한 줄씩 읽기\n",
        "with open('example.txt', 'r') as file:\n",
        "    line = file.readline()\n",
        "    while line:\n",
        "        print(line.strip())\n",
        "        line = file.readline()\n",
        "        print(\"*\")\n",
        "\n",
        "print(\"------------------------\")\n",
        "\n",
        "# 또 다른 방식\n",
        "with open('example.txt', 'r') as file:\n",
        "    while True:\n",
        "        line = file.readline()\n",
        "        if not line:\n",
        "            break\n",
        "        print(line.strip())\n",
        "        print(\"*\")"
      ],
      "metadata": {
        "colab": {
          "base_uri": "https://localhost:8080/"
        },
        "id": "UFNSp8rC57X4",
        "outputId": "651940a6-79cb-4499-e86c-cfcfd425e005"
      },
      "execution_count": null,
      "outputs": [
        {
          "output_type": "stream",
          "name": "stdout",
          "text": [
            "First line\n",
            "Second line\n",
            "Third line\n",
            "\n",
            "First line\n",
            "*\n",
            "Second line\n",
            "*\n",
            "Third line\n",
            "*\n",
            "------------------------\n",
            "First line\n",
            "*\n",
            "Second line\n",
            "*\n",
            "Third line\n",
            "*\n"
          ]
        }
      ]
    },
    {
      "cell_type": "markdown",
      "source": [
        "예외처리"
      ],
      "metadata": {
        "id": "dEEfXcJn6irE"
      }
    },
    {
      "cell_type": "code",
      "source": [
        "try:\n",
        "    result = 10 / 0\n",
        "except ZeroDivisionError as e:\n",
        "    print(\"0으로 나눌 수 없습니다.\", e)"
      ],
      "metadata": {
        "colab": {
          "base_uri": "https://localhost:8080/"
        },
        "id": "F9JSUrtc6kkT",
        "outputId": "fd2572f1-27e0-4462-c964-c16b3d6ee44e"
      },
      "execution_count": null,
      "outputs": [
        {
          "output_type": "stream",
          "name": "stdout",
          "text": [
            "0으로 나눌 수 없습니다. division by zero\n"
          ]
        }
      ]
    },
    {
      "cell_type": "code",
      "source": [
        "try:\n",
        "    file = open(\"example_.txt\", \"r\")\n",
        "    content = file.read()\n",
        "except FileNotFoundError as e:\n",
        "    print(\"파일을 찾을 수 없습니다.\", e)\n",
        "finally:\n",
        "    file.close()"
      ],
      "metadata": {
        "colab": {
          "base_uri": "https://localhost:8080/"
        },
        "id": "Q86oUS8w6tS-",
        "outputId": "a7580f1c-a5e4-4789-b51c-3a07dfee8200"
      },
      "execution_count": null,
      "outputs": [
        {
          "output_type": "stream",
          "name": "stdout",
          "text": [
            "파일을 찾을 수 없습니다. [Errno 2] No such file or directory: 'example_.txt'\n"
          ]
        }
      ]
    },
    {
      "cell_type": "code",
      "source": [
        "def check_positive(number):\n",
        "    if number < 0:\n",
        "        raise ValueError(\"음수는 허용되지 않습니다.\")\n",
        "\n",
        "try:\n",
        "    check_positive(-5)\n",
        "except ValueError as e:\n",
        "    print(e)"
      ],
      "metadata": {
        "colab": {
          "base_uri": "https://localhost:8080/"
        },
        "id": "gBW-bFD-7BxM",
        "outputId": "b9d6c7d9-2422-41b6-9f9a-e8d851574411"
      },
      "execution_count": null,
      "outputs": [
        {
          "output_type": "stream",
          "name": "stdout",
          "text": [
            "음수는 허용되지 않습니다.\n"
          ]
        }
      ]
    },
    {
      "cell_type": "code",
      "source": [
        "class NegativeNumberError(Exception):\n",
        "    def __init__(self, message = \"음수는 허용되지 않습니다.\"):\n",
        "        self.message = message\n",
        "        super().__init__(self.message)\n",
        "\n",
        "def check_positive(number):\n",
        "    if number < 0:\n",
        "        raise NegativeNumberError()\n",
        "\n",
        "try:\n",
        "    check_positive(-5)\n",
        "except NegativeNumberError as e:\n",
        "    print(e)"
      ],
      "metadata": {
        "colab": {
          "base_uri": "https://localhost:8080/"
        },
        "id": "3w8aaXim7POL",
        "outputId": "746ff358-02e9-4ea9-c6a3-9c07268824f8"
      },
      "execution_count": null,
      "outputs": [
        {
          "output_type": "stream",
          "name": "stdout",
          "text": [
            "음수는 허용되지 않습니다.\n"
          ]
        }
      ]
    }
  ]
}