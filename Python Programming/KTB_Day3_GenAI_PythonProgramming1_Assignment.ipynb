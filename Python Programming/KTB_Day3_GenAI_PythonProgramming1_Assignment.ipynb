{
  "nbformat": 4,
  "nbformat_minor": 0,
  "metadata": {
    "colab": {
      "provenance": []
    },
    "kernelspec": {
      "name": "python3",
      "display_name": "Python 3"
    },
    "language_info": {
      "name": "python"
    }
  },
  "cells": [
    {
      "cell_type": "markdown",
      "source": [
        "2024.07.04 (수) - DAY3 Python Programming 1 / 실습 과제"
      ],
      "metadata": {
        "id": "O9ORBbPO-uPM"
      }
    },
    {
      "cell_type": "markdown",
      "source": [
        "# 파이썬 프로그래밍 종합 실습\n",
        "기본 문법 복습, 자료형, 함수, 클래스와 객체지향 프로그래밍, 제너레이터와 이터레이터, 파일 입출력, 예외 처리를 종합적으로 활용합니다."
      ],
      "metadata": {
        "id": "zr5LnyrKxjNd"
      }
    },
    {
      "cell_type": "markdown",
      "source": [
        "1. 파이썬 기본 문법 복습 및 자료형\n",
        "\n",
        "문제:\n",
        "\n",
        "사용자로부터 이름, 나이, 이메일을 입력받아 딕셔너리에 저장하는 프로그램을 작성하세요.\n",
        "\n",
        "나이와 이메일의 형식을 검증하고, 잘못된 입력이 있으면 예외 처리를 하세요."
      ],
      "metadata": {
        "id": "MwJQm7MJxvAk"
      }
    },
    {
      "cell_type": "code",
      "source": [
        "def validate_age(age):\n",
        "    if age <= 0:\n",
        "        raise ValueError(\"유효하지 않은 나이입니다.\")\n",
        "    return age\n",
        "\n",
        "def validate_email(email):\n",
        "    import re\n",
        "    pattern = r'^[a-zA-Z0-9._%+-]+@[a-zA-Z0-9.-]+\\.[a-zA-Z]{2,}$'\n",
        "    if not re.match(pattern, email):\n",
        "        raise ValueError(\"유효하지 않은 이메일입니다.\")\n",
        "    return email\n",
        "\n",
        "user_info = {}\n",
        "\n",
        "try:\n",
        "    name = input(\"이름을 입력하세요: \")\n",
        "    age = int(input(\"나이를 입력하세요: \"))\n",
        "    email = input(\"이메일을 입력하세요: \")\n",
        "\n",
        "    user_info['name'] = name\n",
        "    user_info['age'] = validate_age(age)\n",
        "    user_info['email'] = validate_email(email)\n",
        "except ValueError as e:\n",
        "    print(e)\n",
        "except Exception as e:\n",
        "    print(f\"알 수 없는 오류가 발생했습니다: {e}\")\n",
        "\n",
        "print(\"사용자 정보:\", user_info)\n"
      ],
      "metadata": {
        "colab": {
          "base_uri": "https://localhost:8080/"
        },
        "id": "xjNS0WC6Mmvw",
        "outputId": "19409f8c-8c85-4555-c0ed-89c44c51b0da"
      },
      "execution_count": null,
      "outputs": [
        {
          "output_type": "stream",
          "name": "stdout",
          "text": [
            "이름을 입력하세요: winter\n",
            "나이를 입력하세요: 24\n",
            "이메일을 입력하세요: hh@gmail.com\n",
            "사용자 정보: {'name': 'winter', 'age': 24, 'email': 'hh@gmail.com'}\n"
          ]
        }
      ]
    },
    {
      "cell_type": "code",
      "source": [
        "# 사용자 정의 예외 클래스 사용\n",
        "\n",
        "class InvalidAgeError(Exception):\n",
        "    def __init__(self, message=\"유효하지 않은 나이입니다.\"):\n",
        "        self.message = message\n",
        "        super().__init__(self.message)\n",
        "\n",
        "class InvalidEmailError(Exception):\n",
        "    def __init__(self, message=\"유효하지 않은 이메일입니다.\"):\n",
        "        self.message = message\n",
        "        super().__init__(self.message)\n",
        "\n",
        "def validate_age(age):\n",
        "    if not age.isdigit() or int(age) <= 0:\n",
        "        raise InvalidAgeError()\n",
        "    return int(age)\n",
        "\n",
        "def validate_email(email):\n",
        "    import re\n",
        "    pattern = r'^[a-zA-Z0-9._%+-]+@[a-zA-Z0-9.-]+\\.[a-zA-Z]{2,}$'\n",
        "    if not re.match(pattern, email):\n",
        "        raise InvalidEmailError()\n",
        "    return email\n",
        "\n",
        "user_info = {}\n",
        "\n",
        "try:\n",
        "    name = input(\"이름을 입력하세요: \")\n",
        "    age = input(\"나이를 입력하세요: \")\n",
        "    email = input(\"이메일을 입력하세요: \")\n",
        "\n",
        "    user_info['name'] = name\n",
        "    user_info['age'] = validate_age(age)\n",
        "    user_info['email'] = validate_email(email)\n",
        "\n",
        "except InvalidAgeError as e:\n",
        "    print(e)\n",
        "\n",
        "except InvalidEmailError as e:\n",
        "    print(e)\n",
        "\n",
        "except Exception as e:\n",
        "    print(f\"알 수 없는 오류가 발생했습니다: {e}\")\n",
        "\n",
        "print(\"사용자 정보:\", user_info)"
      ],
      "metadata": {
        "id": "87gDN27jO1q9"
      },
      "execution_count": null,
      "outputs": []
    },
    {
      "cell_type": "markdown",
      "source": [
        "2. 함수 및 클래스와 객체지향 프로그래밍\n",
        "\n",
        "문제:\n",
        "\n",
        "간단한 계산기 클래스를 작성하세요. 이 클래스는 덧셈, 뺄셈, 곱셈, 나눗셈 메서드를 포함합니다.\n",
        "\n",
        "사용자로부터 두 숫자와 연산자를 입력받아 계산 결과를 출력하는 프로그램을 작성하세요."
      ],
      "metadata": {
        "id": "in-rBALsyK33"
      }
    },
    {
      "cell_type": "code",
      "source": [
        "class Calculator: # Calculator 클래스\n",
        "    def __init__(self):\n",
        "        pass\n",
        "\n",
        "    def add(self, x, y): # 덧셈 메서드\n",
        "        return x + y\n",
        "\n",
        "    def subtract(self, x, y): # 뺄셈 메서드\n",
        "        return x - y\n",
        "\n",
        "    def multiply(self, x, y): # 곱셈 메서드\n",
        "        return x * y\n",
        "\n",
        "    def divide(self, x, y): # 나눗셈 메서드\n",
        "        if y == 0: # 사용자가 0으로 나누기를 시도할 경우 ValueError를 발생시킴\n",
        "            raise ValueError(\"0으로 나눌 수 없습니다.\")\n",
        "        return x / y\n",
        "\n",
        "# 계산기 인스턴스 생성\n",
        "calculator = Calculator()\n",
        "\n",
        "try:\n",
        "    # 사용자 입력 받기\n",
        "    x = float(input(\"첫 번째 숫자를 입력하세요: \"))\n",
        "    operator = input(\"연산자를 입력하세요 (+, -, *, /): \")\n",
        "    y = float(input(\"두 번째 숫자를 입력하세요: \"))\n",
        "\n",
        "    # 연산자에 따라 계산 수행\n",
        "    if operator == '+':\n",
        "        result = calculator.add(x, y)\n",
        "    elif operator == '-':\n",
        "        result = calculator.subtract(x, y)\n",
        "    elif operator == '*':\n",
        "        result = calculator.subtract(x, y)\n",
        "    elif operator == '/':\n",
        "        result = calculator.subtract(x, y)\n",
        "    else:\n",
        "        raise ValueError(\"지원하지 않는 연산자입니다.\")\n",
        "\n",
        "    # 계산 결과 출력\n",
        "    print(f\"{x} {operator} {y} = {result}\")\n",
        "\n",
        "except ValueError as e:\n",
        "    print(f\"오류 발생: {e}\")\n",
        "\n",
        "except Exception as e:\n",
        "    print(f\"알 수 없는 오류가 발생했습니다. {e}\")\n"
      ],
      "metadata": {
        "colab": {
          "base_uri": "https://localhost:8080/"
        },
        "id": "LFfHvPBb0o6n",
        "outputId": "a03e4602-0561-4a5c-c29c-afc2e973fe62"
      },
      "execution_count": null,
      "outputs": [
        {
          "output_type": "stream",
          "name": "stdout",
          "text": [
            "첫 번째 숫자를 입력하세요: 6\n",
            "연산자를 입력하세요 (+, -, *, /): +\n",
            "두 번째 숫자를 입력하세요: 6\n",
            "6.0 + 6.0 = 12.0\n"
          ]
        }
      ]
    },
    {
      "cell_type": "markdown",
      "source": [
        "3. 제너레이터와 이터레이터\n",
        "\n",
        "문제:\n",
        "\n",
        "피보나치 수열을 생성하는 제너레이터 함수를 작성하세요.\n",
        "피보나치 수열의 첫 10개 값을 출력하세요."
      ],
      "metadata": {
        "id": "OlDjuxSlyZOi"
      }
    },
    {
      "cell_type": "code",
      "source": [
        "# 피보나치 수열\n",
        "def fibonacci(n):\n",
        "    if n == 0:\n",
        "        return 0\n",
        "    if n == 1:\n",
        "        return 1\n",
        "    return fibonacci(n - 1)  + fibonacci(n - 2)\n",
        "\n",
        "#print()\n",
        "fibonacci(10)"
      ],
      "metadata": {
        "id": "BkI1jD4GydEa",
        "colab": {
          "base_uri": "https://localhost:8080/"
        },
        "outputId": "83440407-2598-4bd2-e4a4-687211f44d93"
      },
      "execution_count": null,
      "outputs": [
        {
          "output_type": "execute_result",
          "data": {
            "text/plain": [
              "55"
            ]
          },
          "metadata": {},
          "execution_count": 3
        }
      ]
    },
    {
      "cell_type": "code",
      "source": [
        "def fibonacci_generator():\n",
        "    a, b = 0, 1\n",
        "    while True:\n",
        "        yield a\n",
        "        a, b = b, a + b\n",
        "\n",
        "# 피보나치 수열의 첫 10개 값을 출력\n",
        "fib_gen = fibonacci_generator()\n",
        "for _ in range(10):\n",
        "    print(next(fib_gen))"
      ],
      "metadata": {
        "colab": {
          "base_uri": "https://localhost:8080/"
        },
        "id": "sN1assX9njpE",
        "outputId": "70e9dfce-3fcd-4187-d4c9-e67e9a083846"
      },
      "execution_count": null,
      "outputs": [
        {
          "output_type": "stream",
          "name": "stdout",
          "text": [
            "0\n",
            "1\n",
            "1\n",
            "2\n",
            "3\n",
            "5\n",
            "8\n",
            "13\n",
            "21\n",
            "34\n"
          ]
        }
      ]
    },
    {
      "cell_type": "markdown",
      "source": [
        "4. 파일 입출력\n",
        "\n",
        "문제:\n",
        "\n",
        "사용자로부터 입력받은 데이터를 파일에 저장하고, 파일 내용을 읽어 출력하는 프로그램을 작성하세요.\n",
        "\n",
        "데이터는 JSON 형식으로 저장하세요"
      ],
      "metadata": {
        "id": "O-_Q0pRUycx0"
      }
    },
    {
      "cell_type": "code",
      "source": [
        "import json\n",
        "\n",
        "data = {}\n",
        "\n",
        "# 사용자로부터 데이터 입력 받기\n",
        "data['name'] = input(\"이름을 입력하세요: \")\n",
        "data['age'] = int(input(\"나이를 입력하세요: \"))\n",
        "data['email'] = input(\"이메일을 입력하세요: \")\n",
        "\n",
        "# 데이터를 JSON 파일에 저장하기\n",
        "file_path = 'user_data.json'\n",
        "with open(file_path, 'w') as f:\n",
        "    # json.dump() 함수를 사용하여 data 딕셔너리를 JSON 형식으로 파일에 저장\n",
        "    json.dump(data, f, indent = 4)\n",
        "    print(f\"데이터가 {file_path} 파일에 저장되었습니다.\")\n",
        "\n",
        "# JSON 파일에서 데이터 읽어오기\n",
        "with open(file_path, 'r') as f:\n",
        "    # json.load() 함수를 사용하여 file_path 경로의 JSON 파일을 읽어와 loaded_data 변수에 저장\n",
        "    loaded_data = json.load(f)\n",
        "    print(\"\\n저장된 데이터를 읽어옵니다:\")\n",
        "    print(f\"이름: {loaded_data['name']}\")\n",
        "    print(f\"나이: {loaded_data['age']}\")\n",
        "    print(f\"이메일: {loaded_data['email']}\")"
      ],
      "metadata": {
        "id": "nyLTxXTHyqKE",
        "colab": {
          "base_uri": "https://localhost:8080/"
        },
        "outputId": "8c42c8d5-cc77-4bbf-a872-41c86b2f0d76"
      },
      "execution_count": null,
      "outputs": [
        {
          "output_type": "stream",
          "name": "stdout",
          "text": [
            "이름을 입력하세요: 박현혜\n",
            "나이를 입력하세요: 24\n",
            "이메일을 입력하세요: hh@gmail.com\n",
            "데이터가 user_data.json 파일에 저장되었습니다.\n",
            "\n",
            "저장된 데이터를 읽어옵니다:\n",
            "이름: 박현혜\n",
            "나이: 24\n",
            "이메일: hh@gmail.com\n"
          ]
        }
      ]
    },
    {
      "cell_type": "markdown",
      "source": [
        "5. Database 연동\n",
        "\n",
        "문제:\n",
        "\n",
        "SQLite 데이터베이스에 사용자 정보를 저장하고, 저장된 데이터를 조회하여 출력하는 프로그램을 작성하세요.\n",
        "\n",
        "테이블은 users로 하고, id, name, age, email 컬럼을 포함합니다."
      ],
      "metadata": {
        "id": "snEMYElhy3Q3"
      }
    },
    {
      "cell_type": "code",
      "source": [
        "import sqlite3\n",
        "\n",
        "connection = sqlite3.connect('user_database.db')\n",
        "cursor = connection.cursor()\n",
        "\n",
        "# users 테이블 생성\n",
        "create_table_query = '''\n",
        "CREATE TABLE IF NOT EXISTS users (\n",
        "    id INTEGER PRIMARY KEY AUTOINCREMENT,\n",
        "    name TEXT NOT NULL,\n",
        "    age INTEGER,\n",
        "    email TEXT\n",
        ");\n",
        "'''\n",
        "\n",
        "cursor.execute(create_table_query)\n",
        "print(\"테이블 'users'가 생성되었습니다.\")\n",
        "\n",
        "# 사용자 정보 입력 받기\n",
        "name = input(\"이름을 입력하세요: \")\n",
        "age = int(input(\"나이를 입력하세요: \"))\n",
        "email = input(\"이메일을 입력하세요: \")\n",
        "\n",
        "# 사용자 정보 삽입\n",
        "insert_query = '''\n",
        "INSERT INTO users (name, age, email)\n",
        "VALUES (?, ?, ?)\n",
        "'''\n",
        "cursor.execute(insert_query, (name, age, email))\n",
        "connection.commit()\n",
        "print(\"f{name}님의 정보가 데이터베이스에 저장되었습니다.\")\n",
        "\n",
        "# 저장된 데이터 조회\n",
        "select_query = '''\n",
        "SELECT * FROM users\n",
        "'''\n",
        "cursor.execute(select_query)\n",
        "users = cursor.fetchall()\n",
        "\n",
        "# 조회된 데이터 출력\n",
        "print(\"/n저장된 사용자 정보:\")\n",
        "for user in users:\n",
        "    print(f\"ID: {user[0]}, 이름: {user[1]}, 나이: {user[2]}, 이메일: {user[3]}\")\n",
        "\n",
        "# 연결 종료\n",
        "connection.close()"
      ],
      "metadata": {
        "id": "d8BgUC0ky6_b",
        "colab": {
          "base_uri": "https://localhost:8080/"
        },
        "outputId": "2593c3f4-4da3-43c7-f090-97fafc31415e"
      },
      "execution_count": null,
      "outputs": [
        {
          "output_type": "stream",
          "name": "stdout",
          "text": [
            "테이블 'users'가 생성되었습니다.\n",
            "이름을 입력하세요: 박현혜\n",
            "나이를 입력하세요: 24\n",
            "이메일을 입력하세요: hh@gmail.com\n",
            "f{name}님의 정보가 데이터베이스에 저장되었습니다.\n",
            "/n저장된 사용자 정보:\n",
            "ID: 1, 이름: 박현혜, 나이: 24, 이메일: hh@gmail.com\n"
          ]
        }
      ]
    },
    {
      "cell_type": "markdown",
      "source": [
        "6. 예외 처리\n",
        "\n",
        "문제:\n",
        "\n",
        "사용자로부터 숫자를 입력받아, 그 숫자를 10으로 나누는 프로그램을 작성하세요.\n",
        "\n",
        "0으로 나누는 경우와 숫자가 아닌 값을 입력받는 경우를 처리하세요."
      ],
      "metadata": {
        "id": "qFd9nMWdzMaw"
      }
    },
    {
      "cell_type": "code",
      "source": [
        "class Cal:\n",
        "    class InvalidNumberError(Exception):\n",
        "        def __init__(self, message=\"유효하지 않은 숫자입니다.\"):\n",
        "            self.message = message\n",
        "            super().__init__(self.message)\n",
        "\n",
        "    def validate_number(self, num):\n",
        "        if not num.isdigit():\n",
        "            raise self. InvalidNumberError()\n",
        "        return int(num)\n",
        "\n",
        "    def divide(self, x, y): # 나눗셈 메서드\n",
        "        if y == 0: # 사용자가 0으로 나누기를 시도할 경우 ValueError를 발생시킴\n",
        "            raise ValueError(\"0으로 나눌 수 없습니다.\")\n",
        "        return x / y\n",
        "\n",
        "cal = Cal()\n",
        "\n",
        "try:\n",
        "    number_input = input(\"숫자를 입력하세요: \")\n",
        "    number = cal.validate_number(number_input)\n",
        "    result = cal.divide(number, 10)\n",
        "    print(f\"{number}을(를) 10으로 나눈 결과: {result}\")\n",
        "\n",
        "except Cal.InvalidNumberError as e:\n",
        "    print(e)\n",
        "except ValueError as e:\n",
        "    print(e)"
      ],
      "metadata": {
        "id": "B_0S33jOzPDJ",
        "colab": {
          "base_uri": "https://localhost:8080/"
        },
        "outputId": "fe2be815-46f6-4655-8049-02ac67d7ddcb"
      },
      "execution_count": null,
      "outputs": [
        {
          "output_type": "stream",
          "name": "stdout",
          "text": [
            "숫자를 입력하세요: 30\n",
            "30을(를) 10으로 나눈 결과: 3.0\n"
          ]
        }
      ]
    }
  ]
}