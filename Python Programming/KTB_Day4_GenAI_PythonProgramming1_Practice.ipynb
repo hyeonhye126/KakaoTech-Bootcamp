{
  "nbformat": 4,
  "nbformat_minor": 0,
  "metadata": {
    "colab": {
      "provenance": [],
      "authorship_tag": "ABX9TyMO1B0bZtpZv51KvlgXMZnH"
    },
    "kernelspec": {
      "name": "python3",
      "display_name": "Python 3"
    },
    "language_info": {
      "name": "python"
    }
  },
  "cells": [
    {
      "cell_type": "markdown",
      "source": [
        "2024.07.05 (금) - DAY4 Python Programming 1 / 이론 실습"
      ],
      "metadata": {
        "id": "nOdncqzRlChK"
      }
    },
    {
      "cell_type": "markdown",
      "source": [
        "고급 자료형 (리스트, 세트, 딕셔너리, collections)"
      ],
      "metadata": {
        "id": "h4f1-3bRlQRV"
      }
    },
    {
      "cell_type": "code",
      "execution_count": null,
      "metadata": {
        "colab": {
          "base_uri": "https://localhost:8080/"
        },
        "id": "5HVSdkR6kqy1",
        "outputId": "2d02412e-5c73-4625-e1d9-0fd968987052"
      },
      "outputs": [
        {
          "output_type": "stream",
          "name": "stdout",
          "text": [
            "리스트: ['apple', 'banana', 'cherry']\n",
            "첫 번째 요소: apple\n",
            "마지막 요소: cherry\n",
            "요소 변경 후: ['apple', 'blueberry', 'cherry']\n",
            "요소 추가 후: ['apple', 'blueberry', 'cherry', 'date']\n",
            "요소 삭제 후: ['blueberry', 'cherry', 'date']\n",
            "리스트 길이: 3\n"
          ]
        }
      ],
      "source": [
        "# 리스트 예제\n",
        "\n",
        "# 리스트 생성 및 기본 사용법\n",
        "fruits = [\"apple\", \"banana\", \"cherry\"]\n",
        "print(\"리스트:\", fruits)\n",
        "\n",
        "# 리스트 요소 접근\n",
        "print(\"첫 번째 요소:\", fruits[0])\n",
        "print(\"마지막 요소:\", fruits[-1])\n",
        "\n",
        "# 리스트 요소 변경\n",
        "fruits[1] = \"blueberry\"\n",
        "print(\"요소 변경 후:\", fruits)\n",
        "\n",
        "# 리스트 요소 추가\n",
        "fruits.append(\"date\")\n",
        "print(\"요소 추가 후:\", fruits)\n",
        "\n",
        "# 리스트 요소 삭제\n",
        "fruits.remove(\"apple\")\n",
        "print(\"요소 삭제 후:\", fruits)\n",
        "\n",
        "# 리스트 길이\n",
        "print(\"리스트 길이:\", len(fruits))"
      ]
    },
    {
      "cell_type": "code",
      "source": [
        "# 세트(집합) 예제\n",
        "\n",
        "# 세트 생성 및 기본 사용법\n",
        "fruits = {\"apple\", \"banana\", \"cherry\"}\n",
        "print(\"세트:\", fruits)\n",
        "\n",
        "# 세트 요소 추가\n",
        "fruits.add(\"date\")\n",
        "print(\"요소 추가 후:\", fruits)\n",
        "\n",
        "# 세트 요소 삭제\n",
        "fruits.remove(\"banana\")\n",
        "print(\"요소 삭제 후:\", fruits)\n",
        "\n",
        "# 세트 길이\n",
        "print(\"세트 길이\", len(fruits))\n",
        "\n",
        "# 집합 연산\n",
        "another_set = {\"banana\", \"kiwi\", \"date\"}\n",
        "intersection = fruits & another_set  # 교집합\n",
        "union = fruits | another_set         # 합집합\n",
        "difference = fruits - another_set    # 차집합\n",
        "print(\"another set:\", another_set)\n",
        "print(\"교집합:\", intersection)  # 출력: {'date'}\n",
        "print(\"합집합:\", union)         # 출력: {'date', 'kiwi', 'cherry', 'banana', 'apple'}\n",
        "print(\"차집합:\", difference)    # 출력: {'cherry', 'apple'}"
      ],
      "metadata": {
        "colab": {
          "base_uri": "https://localhost:8080/"
        },
        "id": "FeqejxNfsgKI",
        "outputId": "6db73da2-9def-46b0-cada-e717566b2606"
      },
      "execution_count": null,
      "outputs": [
        {
          "output_type": "stream",
          "name": "stdout",
          "text": [
            "세트: {'banana', 'apple', 'cherry'}\n",
            "요소 추가 후: {'date', 'banana', 'apple', 'cherry'}\n",
            "요소 삭제 후: {'date', 'apple', 'cherry'}\n",
            "세트 길이 3\n",
            "another set: {'date', 'banana', 'kiwi'}\n",
            "교집합: {'date'}\n",
            "합집합: {'cherry', 'date', 'banana', 'apple', 'kiwi'}\n",
            "차집합: {'apple', 'cherry'}\n"
          ]
        }
      ]
    },
    {
      "cell_type": "code",
      "source": [
        "# 딕셔너리 예제\n",
        "\n",
        "# 딕셔너리 생성 및 기본 사용법\n",
        "fruit_colors = {\"apple\": \"red\", \"banana\": \"yellow\", \"cherry\":\"red\"}\n",
        "print(\"딕셔너리:\", fruit_colors)\n",
        "\n",
        "# 딕셔너리 요소 접근\n",
        "print(\"사과의 색\", fruit_colors[\"apple\"])\n",
        "\n",
        "# 딕셔너리 요소 추가\n",
        "fruit_colors[\"date\"] = \"brown\"\n",
        "print(\"요소 추가 후\", fruit_colors)\n",
        "\n",
        "# 딕셔너리 요소 삭제\n",
        "del fruit_colors[\"banana\"]\n",
        "print(\"요소 삭제 후\", fruit_colors)\n",
        "\n",
        "# 딕셔너리 길이\n",
        "print(\"딕셔너리 길이:\", len(fruit_colors))"
      ],
      "metadata": {
        "colab": {
          "base_uri": "https://localhost:8080/"
        },
        "id": "GN0uGch2vbnj",
        "outputId": "5d7c2085-b13c-4eda-c36e-179fbf0bd721"
      },
      "execution_count": null,
      "outputs": [
        {
          "output_type": "stream",
          "name": "stdout",
          "text": [
            "딕셔너리: {'apple': 'red', 'banana': 'yellow', 'cherry': 'red'}\n",
            "사과의 색 red\n",
            "요소 추가 후 {'apple': 'red', 'banana': 'yellow', 'cherry': 'red', 'date': 'brown'}\n",
            "요소 삭제 후 {'apple': 'red', 'cherry': 'red', 'date': 'brown'}\n",
            "딕셔너리 길이: 3\n"
          ]
        }
      ]
    },
    {
      "cell_type": "code",
      "source": [
        "# 튜플 예제\n",
        "fruits = (\"apple\", \"banana\", \"cherry\")\n",
        "print(\"튜플:\", fruits)\n",
        "\n",
        "# 튜플 요소 접근\n",
        "print(\"첫 번째 요소:\", fruits[0])\n",
        "print(\"마지막 요소:\", fruits[-1])\n",
        "\n",
        "# 튜플 언패킹\n",
        "fruit1,fruit2, fruit3 = fruits\n",
        "print(\"언패킹된 요소:\", fruit1, fruit2, fruit3)"
      ],
      "metadata": {
        "colab": {
          "base_uri": "https://localhost:8080/"
        },
        "id": "_VM-K6NRwNN2",
        "outputId": "41a57a2f-14f7-4c6c-e48a-89dcf7893463"
      },
      "execution_count": null,
      "outputs": [
        {
          "output_type": "stream",
          "name": "stdout",
          "text": [
            "튜플: ('apple', 'banana', 'cherry')\n",
            "첫 번째 요소: apple\n",
            "마지막 요소: cherry\n",
            "언패킹된 요소: apple banana cherry\n"
          ]
        }
      ]
    },
    {
      "cell_type": "markdown",
      "source": [
        "- 튜플 언패킹은 튜플에 저장된 값을 개별 변수에 쉽게 할당할 수 있는 Python 기능입니다.\n",
        "    - 할당: 튜플의 각 요소를 별도의 변수에 할당할 수 있습니다. 예를 들어, fruit1, fruit2, fruit3 = fruits는 fruits 튜플의 첫 번째, 두 번째, 세 번째 요소를 각각 fruit1, fruit2, fruit3 변수에 저장합니다.\n",
        "    - 변수 수 일치: 언패킹할 때 변수의 개수와 튜플의 요소 개수가 동일해야 합니다. 그렇지 않으면 오류가 발생합니다."
      ],
      "metadata": {
        "id": "kwg29wuZw76D"
      }
    },
    {
      "cell_type": "code",
      "source": [
        "# collections 모듈 예제 ⭐️\n",
        "\n",
        "from collections import deque, namedtuple, defaultdict, Counter\n",
        "\n",
        "# deque\n",
        "dq = deque([\"apple\", \"banana\", \"cherry\"])\n",
        "dq.append(\"date\")\n",
        "dq.popleft()\n",
        "print(\"Deque:\", dq)\n",
        "\n",
        "# namedtuple\n",
        "Fruit = namedtuple('Fruit', 'name color')\n",
        "apple = Fruit(name=\"apple\", color=\"red\")\n",
        "print(\"NamedTuple:\", apple)\n",
        "\n",
        "# defaultdict\n",
        "dd = defaultdict(int)\n",
        "dd[\"apple\"] += 1\n",
        "print(\"DefaultDict:\", dd)\n",
        "\n",
        "# Counter\n",
        "cnt = Counter([\"apple\", \"banana\", \"apple\", \"cherry\", \"banana\", \"banana\"])\n",
        "print(\"Counter:\", cnt)"
      ],
      "metadata": {
        "colab": {
          "base_uri": "https://localhost:8080/"
        },
        "id": "FPVHvE7jxwtU",
        "outputId": "b452f623-6010-4c73-9155-83961f3a6f07"
      },
      "execution_count": null,
      "outputs": [
        {
          "output_type": "stream",
          "name": "stdout",
          "text": [
            "Deque: deque(['banana', 'cherry', 'date'])\n",
            "NamedTuple: Fruit(name='apple', color='red')\n",
            "DefaultDict: defaultdict(<class 'int'>, {'apple': 1})\n",
            "Counter: Counter({'banana': 3, 'apple': 2, 'cherry': 1})\n"
          ]
        }
      ]
    },
    {
      "cell_type": "code",
      "source": [
        "# 리스트 컴프리헨션 예제\n",
        "\n",
        "# 기본 리스트 컴프리헨션\n",
        "numbers = [1, 2, 3, 4, 5]\n",
        "squared_numbers = [x*2 for x in numbers]\n",
        "print(\"2를 곱한 숫자들1:\", squared_numbers)\n",
        "\n",
        "squared_numbers = []\n",
        "for x in numbers:\n",
        "    squared_numbers.append(x*2)\n",
        "\n",
        "print(\"2를 곱한 숫자들2:\", squared_numbers)\n",
        "\n",
        "# 조건을 포함한 리스트 컴프리헨션\n",
        "even_numbers = [x for x in numbers if x % 2 == 0]\n",
        "print(\"짝수들:\", even_numbers)"
      ],
      "metadata": {
        "colab": {
          "base_uri": "https://localhost:8080/"
        },
        "id": "SSFzpYlE0kxT",
        "outputId": "158c1389-ac7b-4341-fd0a-08af048885ae"
      },
      "execution_count": null,
      "outputs": [
        {
          "output_type": "stream",
          "name": "stdout",
          "text": [
            "2를 곱한 숫자들1: [2, 4, 6, 8, 10]\n",
            "2를 곱한 숫자들2: [2, 4, 6, 8, 10]\n",
            "짝수들: [2, 4]\n"
          ]
        }
      ]
    },
    {
      "cell_type": "code",
      "source": [
        "# 딕셔너리 컴프리헨션 예제\n",
        "numbers = [1, 2, 3, 4, 5]\n",
        "\n",
        "squared_dict = {x: x*2 for x in numbers}\n",
        "\n",
        "print(\"리스트 원소에 2를 곱한 딕셔너리:\", squared_dict)"
      ],
      "metadata": {
        "colab": {
          "base_uri": "https://localhost:8080/"
        },
        "id": "SpWyS7nS_PCg",
        "outputId": "d34f500c-c9a4-4b3d-c8fd-be6d9d46706a"
      },
      "execution_count": null,
      "outputs": [
        {
          "output_type": "stream",
          "name": "stdout",
          "text": [
            "리스트 원소에 2를 곱한 딕셔너리: {1: 2, 2: 4, 3: 6, 4: 8, 5: 10}\n"
          ]
        }
      ]
    },
    {
      "cell_type": "code",
      "source": [
        "# 집합 컴프리헨션 예제\n",
        "numbers = [1, 2, 3, 4, 5]\n",
        "\n",
        "squared_set = {x*2 for x in numbers}\n",
        "\n",
        "print(\"리스트 원소에 2를 곱한 집합:\", squared_set)"
      ],
      "metadata": {
        "colab": {
          "base_uri": "https://localhost:8080/"
        },
        "id": "ma1wTt-6_cS3",
        "outputId": "e556c518-2e9e-4a11-ac5d-fa58b4274271"
      },
      "execution_count": null,
      "outputs": [
        {
          "output_type": "stream",
          "name": "stdout",
          "text": [
            "리스트 원소에 2를 곱한 집합: {2, 4, 6, 8, 10}\n"
          ]
        }
      ]
    },
    {
      "cell_type": "code",
      "source": [
        "# 중첩 리스트 컴프리헨션 예제 ⭐️\n",
        "matrix = [[1, 2, 3], [4, 5, 6], [7, 8, 9]]\n",
        "\n",
        "flattened = [num for row in matrix for num in row]\n",
        "\n",
        "print(\"Flattened List:\", flattened)"
      ],
      "metadata": {
        "colab": {
          "base_uri": "https://localhost:8080/"
        },
        "id": "RyBPkF25_4Ez",
        "outputId": "6e0999c6-688b-433d-f377-3a9de65ff017"
      },
      "execution_count": null,
      "outputs": [
        {
          "output_type": "stream",
          "name": "stdout",
          "text": [
            "Flattened List: [1, 2, 3, 4, 5, 6, 7, 8, 9]\n"
          ]
        }
      ]
    },
    {
      "cell_type": "code",
      "source": [
        "import logging\n",
        "\n",
        "# 로깅 설정\n",
        "logging.basicConfig(level=logging.DEBUG,\n",
        "                    fotmat='%(asctime)s - %(name)s - %(levelname)s - %(message)s')\n",
        "# 로깅 객체\n",
        "logger = logging.getLogger(__name__)\n",
        "\n",
        "def divide(a, b):\n",
        "    try:\n",
        "        result = a/b\n",
        "        logger.info(\"Division successful\")\n",
        "        return result\n",
        "    except ZeroDivisionError:\n",
        "        logger.error(\"Division by zero error\")\n",
        "        return None\n",
        "\n",
        "# 로깅 테스트\n",
        "print(\"Division successful\\n\", divide(10, 2))\n",
        "print(\"Division by zero error\\n\", divide(10, 0))"
      ],
      "metadata": {
        "colab": {
          "base_uri": "https://localhost:8080/"
        },
        "id": "IMRcHvmEAYsF",
        "outputId": "5d5cc49d-a301-42ef-97f2-cef561b1c115"
      },
      "execution_count": null,
      "outputs": [
        {
          "output_type": "stream",
          "name": "stderr",
          "text": [
            "INFO:__main__:Division successful\n",
            "ERROR:__main__:Division by zero error\n"
          ]
        },
        {
          "output_type": "stream",
          "name": "stdout",
          "text": [
            "Division successful\n",
            " 5.0\n",
            "Division by zero error\n",
            " None\n"
          ]
        }
      ]
    },
    {
      "cell_type": "code",
      "source": [
        "logger.setLevel(logging.INFO) # 로그 레벨 설정 ⭐️\n",
        "\n",
        "logger.debug(\"This is a debug message\")\n",
        "logger.info(\"This is an info message\")\n",
        "logger.warning(\"This is a warning message\")\n",
        "logger.error(\"This is an error message\")\n",
        "logger.critical(\"This is a critical message\")"
      ],
      "metadata": {
        "colab": {
          "base_uri": "https://localhost:8080/"
        },
        "id": "tP3z8MN8Dbn4",
        "outputId": "c9c5e01b-bb65-4b9e-d10a-79bbb8e82879"
      },
      "execution_count": null,
      "outputs": [
        {
          "output_type": "stream",
          "name": "stderr",
          "text": [
            "INFO:__main__:This is an info message\n",
            "WARNING:__main__:This is a warning message\n",
            "ERROR:__main__:This is an error message\n",
            "CRITICAL:__main__:This is a critical message\n"
          ]
        }
      ]
    },
    {
      "cell_type": "code",
      "source": [
        "import re\n",
        "\n",
        "# 이메일 추출\n",
        "text = \"Contact us at support@example.com or sales@example.com\"\n",
        "pattern = r\"\\b[A-Za-z0-9._%+-]+@[A-Za-z0-9.-]+\\.[A-Z|a-z]{2,7}\\b\"\n",
        "matches = re.findall(pattern, text)\n",
        "print(\"이메일:\", matches)\n",
        "\n",
        "# HTML 태그 제거\n",
        "html = \"<p>This is a </b>bold</b> paragraph.</p>\"\n",
        "pattern = r\"<.*?>\"\n",
        "clean_text = re.sub(pattern, \"\", html)\n",
        "print(\"태그 제거 후 텍스트\", clean_text)"
      ],
      "metadata": {
        "colab": {
          "base_uri": "https://localhost:8080/"
        },
        "id": "TudYd3xMEzNb",
        "outputId": "65b14c28-431d-4e7b-95b9-0acf65f62e26"
      },
      "execution_count": null,
      "outputs": [
        {
          "output_type": "stream",
          "name": "stdout",
          "text": [
            "이메일: ['support@example.com', 'sales@example.com']\n",
            "태그 제거 후 텍스트 This is a bold paragraph.\n"
          ]
        }
      ]
    },
    {
      "cell_type": "code",
      "source": [
        "import threading\n",
        "import time\n",
        "\n",
        "A = 0\n",
        "# 숫자를 출력하는 함수\n",
        "def print_numbers():\n",
        "    global A\n",
        "    for i in range(5):\n",
        "        print(\"i:\", i)\n",
        "        print(\"공통A: \", A)\n",
        "        A+=1\n",
        "        time.sleep(1)\n",
        "\n",
        "# 두 개의 스레드 생성 및 시작\n",
        "thread1 = threading.Thread(target=print_numbers)\n",
        "thread2 = threading.Thread(target=print_numbers)\n",
        "thread1.start()\n",
        "thread2.start()\n",
        "thread1.join()\n",
        "thread2.join()"
      ],
      "metadata": {
        "colab": {
          "base_uri": "https://localhost:8080/"
        },
        "id": "zdS6wc_9F5Zl",
        "outputId": "bbea3ea5-068c-4a5f-f19b-2c42bcf53f0a"
      },
      "execution_count": null,
      "outputs": [
        {
          "output_type": "stream",
          "name": "stdout",
          "text": [
            "i: 0\n",
            "공통A:  0\n",
            "i: 0\n",
            "공통A:  1\n",
            "i: 1\n",
            "공통A:  2\n",
            "i: 1\n",
            "공통A:  3\n",
            "i: 2\n",
            "공통A:  4\n",
            "i: 2\n",
            "공통A:  5\n",
            "i: 3\n",
            "공통A:  6\n",
            "i: 3\n",
            "공통A:  6\n",
            "i: 4\n",
            "공통A:  8\n",
            "i: 4\n",
            "공통A:  9\n"
          ]
        }
      ]
    },
    {
      "cell_type": "code",
      "source": [
        "import multiprocessing\n",
        "import time\n",
        "\n",
        "A = 0\n",
        "# 숫자를 출력하는 함수\n",
        "def print_numbers():\n",
        "    global A\n",
        "    for i in range(5):\n",
        "        print(\"i:\", i)\n",
        "        print(\"공통A:\", A)\n",
        "        A+=1\n",
        "        time.sleep(1)\n",
        "\n",
        "process1 = multiprocessing.Process(target=print_numbers)\n",
        "process2 = multiprocessing.Process(target=print_numbers)\n",
        "process1.start()\n",
        "process2.start()\n",
        "process1.join()\n",
        "process2.join()"
      ],
      "metadata": {
        "colab": {
          "base_uri": "https://localhost:8080/"
        },
        "id": "5qOYV7e9G2jh",
        "outputId": "a4f768d3-86a9-4a28-bc68-12298ad09bbe"
      },
      "execution_count": null,
      "outputs": [
        {
          "output_type": "stream",
          "name": "stdout",
          "text": [
            "i: 0\n",
            "공통A: i:0 \n",
            "0\n",
            "공통A: 0\n",
            "i: 1\n",
            "공통A: i: 11\n",
            "\n",
            "공통A: 1\n",
            "i: 2\n",
            "공통A: i:2\n",
            " 2\n",
            "공통A: 2\n",
            "i: 3\n",
            "공통A: 3\n",
            "i: 3\n",
            "공통A: 3\n",
            "i: 4\n",
            "공통A: 4\n",
            "i: 4\n",
            "공통A: 4\n"
          ]
        }
      ]
    }
  ]
}