{
  "nbformat": 4,
  "nbformat_minor": 0,
  "metadata": {
    "colab": {
      "provenance": [],
      "authorship_tag": "ABX9TyOKrP/K0CduMFIKVHxUd13U"
    },
    "kernelspec": {
      "name": "python3",
      "display_name": "Python 3"
    },
    "language_info": {
      "name": "python"
    }
  },
  "cells": [
    {
      "cell_type": "markdown",
      "source": [
        "2024.07.05 (금) - DAY4 Python Programming 2 / 이론 실습"
      ],
      "metadata": {
        "id": "nOdncqzRlChK"
      }
    },
    {
      "cell_type": "markdown",
      "source": [
        "고급 자료형 (리스트, 세트, 딕셔너리, collections)"
      ],
      "metadata": {
        "id": "h4f1-3bRlQRV"
      }
    },
    {
      "cell_type": "code",
      "execution_count": 1,
      "metadata": {
        "colab": {
          "base_uri": "https://localhost:8080/"
        },
        "id": "5HVSdkR6kqy1",
        "outputId": "b4679d88-a5e5-4473-c836-92cbb866ac9d"
      },
      "outputs": [
        {
          "output_type": "stream",
          "name": "stdout",
          "text": [
            "리스트: ['apple', 'banana', 'cherry']\n",
            "첫 번째 요소: apple\n",
            "마지막 요소: cherry\n",
            "요소 변경 후: ['apple', 'blueberry', 'cherry']\n",
            "요소 추가 후: ['apple', 'blueberry', 'cherry', 'date']\n",
            "요소 삭제 후: ['blueberry', 'cherry', 'date']\n",
            "리스트 길이: 3\n"
          ]
        }
      ],
      "source": [
        "# 리스트 예제\n",
        "\n",
        "# 리스트 생성 및 기본 사용법\n",
        "fruits = [\"apple\", \"banana\", \"cherry\"]\n",
        "print(\"리스트:\", fruits)\n",
        "\n",
        "# 리스트 요소 접근\n",
        "print(\"첫 번째 요소:\", fruits[0])\n",
        "print(\"마지막 요소:\", fruits[-1])\n",
        "\n",
        "# 리스트 요소 변경\n",
        "fruits[1] = \"blueberry\"\n",
        "print(\"요소 변경 후:\", fruits)\n",
        "\n",
        "# 리스트 요소 추가\n",
        "fruits.append(\"date\")\n",
        "print(\"요소 추가 후:\", fruits)\n",
        "\n",
        "# 리스트 요소 삭제\n",
        "fruits.remove(\"apple\")\n",
        "print(\"요소 삭제 후:\", fruits)\n",
        "\n",
        "# 리스트 길이\n",
        "print(\"리스트 길이:\", len(fruits))"
      ]
    },
    {
      "cell_type": "code",
      "source": [
        "# 세트(집합) 예제\n",
        "\n",
        "# 세트 생성 및 기본 사용법\n",
        "fruits = {\"apple\", \"banana\", \"cherry\"}\n",
        "print(\"세트:\", fruits)\n",
        "\n",
        "# 세트 요소 추가\n",
        "fruits.add(\"date\")\n",
        "print(\"요소 추가 후:\", fruits)\n",
        "\n",
        "# 세트 요소 삭제\n",
        "fruits.remove(\"banana\")\n",
        "print(\"요소 삭제 후:\", fruits)\n",
        "\n",
        "# 세트 길이\n",
        "print(\"세트 길이\", len(fruits))\n",
        "\n",
        "# 집합 연산\n",
        "another_set = {\"banana\", \"kiwi\", \"date\"}\n",
        "intersection = fruits & another_set  # 교집합\n",
        "union = fruits | another_set         # 합집합\n",
        "difference = fruits - another_set    # 차집합\n",
        "print(\"another set:\", another_set)\n",
        "print(\"교집합:\", intersection)  # 출력: {'date'}\n",
        "print(\"합집합:\", union)         # 출력: {'date', 'kiwi', 'cherry', 'banana', 'apple'}\n",
        "print(\"차집합:\", difference)    # 출력: {'cherry', 'apple'}"
      ],
      "metadata": {
        "colab": {
          "base_uri": "https://localhost:8080/"
        },
        "id": "FeqejxNfsgKI",
        "outputId": "dc87f5aa-b6bf-452c-e199-4ba53a4158b5"
      },
      "execution_count": 2,
      "outputs": [
        {
          "output_type": "stream",
          "name": "stdout",
          "text": [
            "세트: {'apple', 'cherry', 'banana'}\n",
            "요소 추가 후: {'apple', 'date', 'cherry', 'banana'}\n",
            "요소 삭제 후: {'apple', 'date', 'cherry'}\n",
            "세트 길이 3\n",
            "another set: {'date', 'kiwi', 'banana'}\n",
            "교집합: {'date'}\n",
            "합집합: {'apple', 'kiwi', 'banana', 'cherry', 'date'}\n",
            "차집합: {'apple', 'cherry'}\n"
          ]
        }
      ]
    },
    {
      "cell_type": "code",
      "source": [
        "# 딕셔너리 예제\n",
        "\n",
        "# 딕셔너리 생성 및 기본 사용법\n",
        "fruit_colors = {\"apple\": \"red\", \"banana\": \"yellow\", \"cherry\":\"red\"}\n",
        "print(\"딕셔너리:\", fruit_colors)\n",
        "\n",
        "# 딕셔너리 요소 접근\n",
        "print(\"사과의 색\", fruit_colors[\"apple\"])\n",
        "\n",
        "# 딕셔너리 요소 추가\n",
        "fruit_colors[\"date\"] = \"brown\"\n",
        "print(\"요소 추가 후\", fruit_colors)\n",
        "\n",
        "# 딕셔너리 요소 삭제\n",
        "del fruit_colors[\"banana\"]\n",
        "print(\"요소 삭제 후\", fruit_colors)\n",
        "\n",
        "# 딕셔너리 길이\n",
        "print(\"딕셔너리 길이:\", len(fruit_colors))"
      ],
      "metadata": {
        "colab": {
          "base_uri": "https://localhost:8080/"
        },
        "id": "GN0uGch2vbnj",
        "outputId": "3ff17faf-467b-45e3-a624-a11bb427dc5c"
      },
      "execution_count": 3,
      "outputs": [
        {
          "output_type": "stream",
          "name": "stdout",
          "text": [
            "딕셔너리: {'apple': 'red', 'banana': 'yellow', 'cherry': 'red'}\n",
            "사과의 색 red\n",
            "요소 추가 후 {'apple': 'red', 'banana': 'yellow', 'cherry': 'red', 'date': 'brown'}\n",
            "요소 삭제 후 {'apple': 'red', 'cherry': 'red', 'date': 'brown'}\n",
            "딕셔너리 길이: 3\n"
          ]
        }
      ]
    },
    {
      "cell_type": "code",
      "source": [
        "# 튜플 예제\n",
        "fruits = (\"apple\", \"banana\", \"cherry\")\n",
        "print(\"튜플:\", fruits)\n",
        "\n",
        "# 튜플 요소 접근\n",
        "print(\"첫 번째 요소:\", fruits[0])\n",
        "print(\"마지막 요소:\", fruits[-1])\n",
        "\n",
        "# 튜플 언패킹\n",
        "fruit1,fruit2, fruit3 = fruits\n",
        "print(\"언패킹된 요소:\", fruit1, fruit2, fruit3)"
      ],
      "metadata": {
        "colab": {
          "base_uri": "https://localhost:8080/"
        },
        "id": "_VM-K6NRwNN2",
        "outputId": "33ca0d3c-5bfb-43c0-cc5d-ca25a7ea5fef"
      },
      "execution_count": 4,
      "outputs": [
        {
          "output_type": "stream",
          "name": "stdout",
          "text": [
            "튜플: ('apple', 'banana', 'cherry')\n",
            "첫 번째 요소: apple\n",
            "마지막 요소: cherry\n",
            "언패킹된 요소: apple banana cherry\n"
          ]
        }
      ]
    },
    {
      "cell_type": "markdown",
      "source": [
        "- 튜플 언패킹은 튜플에 저장된 값을 개별 변수에 쉽게 할당할 수 있는 Python 기능입니다.\n",
        "    - 할당: 튜플의 각 요소를 별도의 변수에 할당할 수 있습니다. 예를 들어, fruit1, fruit2, fruit3 = fruits는 fruits 튜플의 첫 번째, 두 번째, 세 번째 요소를 각각 fruit1, fruit2, fruit3 변수에 저장합니다.\n",
        "    - 변수 수 일치: 언패킹할 때 변수의 개수와 튜플의 요소 개수가 동일해야 합니다. 그렇지 않으면 오류가 발생합니다."
      ],
      "metadata": {
        "id": "kwg29wuZw76D"
      }
    },
    {
      "cell_type": "code",
      "source": [
        "# collections 모듈 예제\n",
        "\n",
        "from collections import deque, namedtuple, defaultdict, Counter\n",
        "\n",
        "# deque\n",
        "dq = deque([\"apple\", \"banana\", \"cherry\"])\n",
        "dq.append(\"date\")\n",
        "dq.popleft()\n",
        "print(\"Deque:\", dq)\n",
        "\n",
        "# namedtuple\n",
        "Fruit = namedtuple('Fruit', 'name color')\n",
        "apple = Fruit(name=\"apple\", color=\"red\")\n",
        "print(\"NamedTuple:\", apple)\n",
        "\n",
        "# defaultdict\n",
        "dd = defaultdict(int)\n",
        "dd[\"apple\"] += 1\n",
        "print(\"DefaultDict:\", dd)\n",
        "\n",
        "# Counter\n",
        "cnt = Counter([\"apple\", \"banana\", \"apple\", \"cherry\", \"banana\", \"banana\"])\n",
        "print(\"Counter:\", cnt)"
      ],
      "metadata": {
        "colab": {
          "base_uri": "https://localhost:8080/"
        },
        "id": "FPVHvE7jxwtU",
        "outputId": "6b902634-df17-4b1e-c17e-26b37085c299"
      },
      "execution_count": 5,
      "outputs": [
        {
          "output_type": "stream",
          "name": "stdout",
          "text": [
            "Deque: deque(['banana', 'cherry', 'date'])\n",
            "NamedTuple: Fruit(name='apple', color='red')\n",
            "DefaultDict: defaultdict(<class 'int'>, {'apple': 1})\n",
            "Counter: Counter({'banana': 3, 'apple': 2, 'cherry': 1})\n"
          ]
        }
      ]
    },
    {
      "cell_type": "markdown",
      "source": [
        "이 코드는 Python의 `collections` 모듈을 사용하여 다양한 데이터 구조를 소개합니다.\n",
        "\n",
        "1. **deque (Double-Ended Queue)**:\n",
        "    - 양쪽 끝에서 요소를 추가하거나 제거할 수 있는 큐입니다.\n",
        "    - 이 예제에서는 `deque`에 `date`를 추가하고, 첫 번째 요소를 제거합니다.\n",
        "2. **namedtuple**:\n",
        "    - 필드 이름을 가진 튜플로, 인덱스 대신 이름으로 요소에 접근할 수 있습니다.\n",
        "    - `'Fruit'`은 생성할 `namedtuple`의 이름입니다. 여기서는 `Fruit`라는 이름의 `namedtuple` 클래스를 정의합니다.\n",
        "    - `'name color'`는 필드의 이름들을 문자열로 지정한 것입니다. 이 문자열은 공백으로 구분된 필드 이름들로 구성됩니다. 따라서 이 `namedtuple`은 두 개의 필드 `name`과 `color`를 갖습니다.\n",
        "    - **`Fruit = namedtuple('Fruit', 'name color')`**: 이 부분은 `namedtuple` 클래스 `Fruit`를 생성하고, 이를 변수 `Fruit`에 할당합니다. 이제 `Fruit`은 일반 클래스처럼 사용할 수 있습니다.\n",
        "3. **defaultdict**:\n",
        "    - **`defaultdict(int)`의 의미**:\n",
        "        - `dd = defaultdict(int)`는 `int`를 `default_factory`로 사용하여 `defaultdict` 객체를 생성합니다.\n",
        "        - 여기서 `int`는 `defaultdict`의 기본값을 생성하기 위한 함수로 사용됩니다. `int()`는 기본값으로 `0`을 반환합니다. 즉, `dd`라는 `defaultdict`는 존재하지 않는 키에 접근할 때 자동으로 값을 `0`으로 초기화합니다.\n",
        "    - `dd[\"apple\"] += 1`의 의미**:\n",
        "        - 이 표현식은 `dd` 딕셔너리에서 `\"apple\"`이라는 키의 값을 1 증가시킵니다.\n",
        "        - 만약 `\"apple\"`이라는 키가 `dd`에 이미 존재하면 그 키의 값이 1 증가합니다.\n",
        "        - 만약 `\"apple\"`이라는 키가 존재하지 않으면, `defaultdict`는 `default_factory`인 `int()`를 호출하여 기본값 `0`을 생성하고, 그 후에 1을 더합니다. 결과적으로 `dd[\"apple\"]`은 `1`이 됩니다.\n",
        "4. **Counter**:\n",
        "    - 요소의 빈도를 계산하는 딕셔너리 서브클래스입니다.\n",
        "    - 이 예제에서는 리스트에 있는 각 과일의 빈도를 계산합니다."
      ],
      "metadata": {
        "id": "WzfO0R9Drvuw"
      }
    },
    {
      "cell_type": "code",
      "source": [
        "# 리스트 컴프리헨션 예제\n",
        "\n",
        "# 기본 리스트 컴프리헨션\n",
        "numbers = [1, 2, 3, 4, 5]\n",
        "squared_numbers = [x*2 for x in numbers]\n",
        "print(\"2를 곱한 숫자들1:\", squared_numbers)\n",
        "\n",
        "squared_numbers = []\n",
        "for x in numbers:\n",
        "    squared_numbers.append(x*2)\n",
        "\n",
        "print(\"2를 곱한 숫자들2:\", squared_numbers)\n",
        "\n",
        "# 조건을 포함한 리스트 컴프리헨션\n",
        "even_numbers = [x for x in numbers if x % 2 == 0]\n",
        "print(\"짝수들:\", even_numbers)"
      ],
      "metadata": {
        "colab": {
          "base_uri": "https://localhost:8080/"
        },
        "id": "SSFzpYlE0kxT",
        "outputId": "0397de3a-b9cb-4787-85f4-83f0feb03793"
      },
      "execution_count": 6,
      "outputs": [
        {
          "output_type": "stream",
          "name": "stdout",
          "text": [
            "2를 곱한 숫자들1: [2, 4, 6, 8, 10]\n",
            "2를 곱한 숫자들2: [2, 4, 6, 8, 10]\n",
            "짝수들: [2, 4]\n"
          ]
        }
      ]
    },
    {
      "cell_type": "code",
      "source": [
        "# 딕셔너리 컴프리헨션 예제\n",
        "numbers = [1, 2, 3, 4, 5]\n",
        "\n",
        "squared_dict = {x: x*2 for x in numbers}\n",
        "\n",
        "print(\"리스트 원소에 2를 곱한 딕셔너리:\", squared_dict)"
      ],
      "metadata": {
        "colab": {
          "base_uri": "https://localhost:8080/"
        },
        "id": "SpWyS7nS_PCg",
        "outputId": "ab88cb9a-1f11-416e-c92c-902468fb16ee"
      },
      "execution_count": 7,
      "outputs": [
        {
          "output_type": "stream",
          "name": "stdout",
          "text": [
            "리스트 원소에 2를 곱한 딕셔너리: {1: 2, 2: 4, 3: 6, 4: 8, 5: 10}\n"
          ]
        }
      ]
    },
    {
      "cell_type": "code",
      "source": [
        "# 집합 컴프리헨션 예제\n",
        "numbers = [1, 2, 3, 4, 5]\n",
        "\n",
        "squared_set = {x*2 for x in numbers}\n",
        "\n",
        "print(\"리스트 원소에 2를 곱한 집합:\", squared_set)"
      ],
      "metadata": {
        "colab": {
          "base_uri": "https://localhost:8080/"
        },
        "id": "ma1wTt-6_cS3",
        "outputId": "5361b1e7-00ff-46ac-ba76-a2a7e7025f9e"
      },
      "execution_count": 8,
      "outputs": [
        {
          "output_type": "stream",
          "name": "stdout",
          "text": [
            "리스트 원소에 2를 곱한 집합: {2, 4, 6, 8, 10}\n"
          ]
        }
      ]
    },
    {
      "cell_type": "code",
      "source": [
        "# 중첩 리스트 컴프리헨션 예제 ⭐️\n",
        "matrix = [[1, 2, 3], [4, 5, 6], [7, 8, 9]]\n",
        "\n",
        "flattened = [num for row in matrix for num in row]\n",
        "\n",
        "print(\"Flattened List:\", flattened)"
      ],
      "metadata": {
        "colab": {
          "base_uri": "https://localhost:8080/"
        },
        "id": "RyBPkF25_4Ez",
        "outputId": "88727bda-460e-4d26-f73e-f290fcb27a5e"
      },
      "execution_count": 9,
      "outputs": [
        {
          "output_type": "stream",
          "name": "stdout",
          "text": [
            "Flattened List: [1, 2, 3, 4, 5, 6, 7, 8, 9]\n"
          ]
        }
      ]
    },
    {
      "cell_type": "code",
      "source": [
        "import logging\n",
        "\n",
        "# 로깅 설정\n",
        "logging.basicConfig(level=logging.DEBUG,\n",
        "                    fotmat='%(asctime)s - %(name)s - %(levelname)s - %(message)s')\n",
        "# 로깅 객체\n",
        "logger = logging.getLogger(__name__)\n",
        "\n",
        "def divide(a, b):\n",
        "    try:\n",
        "        result = a/b\n",
        "        logger.info(\"Division successful\")\n",
        "        return result\n",
        "    except ZeroDivisionError:\n",
        "        logger.error(\"Division by zero error\")\n",
        "        return None\n",
        "\n",
        "# 로깅 테스트\n",
        "print(\"Division successful\\n\", divide(10, 2))\n",
        "print(\"Division by zero error\\n\", divide(10, 0))"
      ],
      "metadata": {
        "colab": {
          "base_uri": "https://localhost:8080/"
        },
        "id": "IMRcHvmEAYsF",
        "outputId": "0b33aae8-9e84-4d3e-dc51-bfe59fa7f093"
      },
      "execution_count": 10,
      "outputs": [
        {
          "output_type": "stream",
          "name": "stderr",
          "text": [
            "ERROR:__main__:Division by zero error\n"
          ]
        },
        {
          "output_type": "stream",
          "name": "stdout",
          "text": [
            "Division successful\n",
            " 5.0\n",
            "Division by zero error\n",
            " None\n"
          ]
        }
      ]
    },
    {
      "cell_type": "markdown",
      "source": [
        "Python의 logging 모듈은 프로그램 실행 중에 발생하는 다양한 메시지(정보, 경고, 오류 등)를 기록하는 기능을 제공합니다. 이 모듈을 사용하면 프로그램의 상태를 모니터링하고, 문제를 디버깅하거나 진단하는 데 유용한 로그를 남길 수 있습니다.\n",
        "- 로깅 설정:\n",
        "    - level=logging.DEBUG: 로깅 수준을 DEBUG로 설정하여 DEBUG 이상 수준의 모든 로그 메시지를 출력합니다.\n",
        "    - format: 로그 메시지의 형식을 지정합니다. 여기서는 시간(asctime), 로거 이름(name), 로그 수준(levelname), 메시지(message)를 포함합니다.\n",
        "- 로깅 객체 생성:\n",
        "    - `__name__`을 사용하여 현재 모듈의 이름을 가진 로깅 객체(logger)를 생성합니다.\n",
        "\n",
        "- 함수 divide:\n",
        "    - 두 숫자를 나누는 함수입니다.\n",
        "    - 성공적인 나눗셈: 나눗셈이 성공하면 정보 수준(INFO)의 로그를 남깁니다.\n",
        "    - 0으로 나누기 예외 처리: ZeroDivisionError가 발생하면 오류 수준(ERROR)의 로그를 남기고 None을 반환합니다.\n",
        "- 테스트 실행: 두 가지 경우를 테스트합니다.\n",
        "    - 정상적인 나눗셈: divide(10, 2)\n",
        "    - 0으로 나누기 오류: divide(10, 0)\n"
      ],
      "metadata": {
        "id": "UGToO0AMtL_a"
      }
    },
    {
      "cell_type": "code",
      "source": [
        "logger.setLevel(logging.INFO) # 로그 레벨 설정\n",
        "\n",
        "logger.debug(\"This is a debug message\")\n",
        "logger.info(\"This is an info message\")\n",
        "logger.warning(\"This is a warning message\")\n",
        "logger.error(\"This is an error message\")\n",
        "logger.critical(\"This is a critical message\")"
      ],
      "metadata": {
        "colab": {
          "base_uri": "https://localhost:8080/"
        },
        "id": "tP3z8MN8Dbn4",
        "outputId": "3a149405-7efc-4d9f-dba0-7fe42718c11a"
      },
      "execution_count": 11,
      "outputs": [
        {
          "output_type": "stream",
          "name": "stderr",
          "text": [
            "INFO:__main__:This is an info message\n",
            "WARNING:__main__:This is a warning message\n",
            "ERROR:__main__:This is an error message\n",
            "CRITICAL:__main__:This is a critical message\n"
          ]
        }
      ]
    },
    {
      "cell_type": "markdown",
      "source": [
        "1. 로그 레벨 (Log Levels): 로그 메시지는 중요도에 따라 레벨이 나뉩니다. logging 모듈에서 기본적으로 제공하는 로그 레벨은 다음과 같습니다:\n",
        "    - DEBUG: 문제를 진단할 때 유용한 상세 정보.\n",
        "    - INFO: 일반적인 정보를 나타내는 메시지.\n",
        "    - WARNING: 경고를 나타내며, 문제가 발생할 수 있음을 의미.\n",
        "    - ERROR: 오류가 발생했음을 나타내며, 기능이 영향을 받았음을 의미.\n",
        "    - CRITICAL: 심각한 오류가 발생했음을 나타내며, 프로그램이 종료될 수도 있음을 의미.\n",
        "\n",
        "2. 로거 (Logger):\n",
        "로그 메시지를 남기기 위해 사용되는 인터페이스입니다. 로거는 다양한 소스에서 생성된 로그를 관리하며, 특정 레벨 이상의 로그 메시지만을 기록하도록 설정할 수 있습니다.\n",
        "\n",
        "3. 핸들러 (Handler):\n",
        "로거가 생성한 로그 메시지를 처리하는 역할을 합니다. 로그 메시지를 파일, 콘솔, 원격 서버 등으로 전송할 수 있습니다. 하나의 로거에 여러 개의 핸들러를 추가할 수 있습니다.\n",
        "\n",
        "4. 포맷터 (Formatter):\n",
        "로그 메시지의 형식을 정의합니다. 시간, 로그 레벨, 메시지 내용 등 다양한 요소를 포함할 수 있으며, 로그 메시지를 이해하기 쉽게 만듭니다."
      ],
      "metadata": {
        "id": "3LOMbL_xtVoG"
      }
    },
    {
      "cell_type": "code",
      "source": [
        "import re\n",
        "\n",
        "# 이메일 추출\n",
        "text = \"Contact us at support@example.com or sales@example.com\"\n",
        "pattern = r\"\\b[A-Za-z0-9._%+-]+@[A-Za-z0-9.-]+\\.[A-Z|a-z]{2,7}\\b\"\n",
        "matches = re.findall(pattern, text)\n",
        "print(\"이메일:\", matches)\n",
        "\n",
        "# HTML 태그 제거\n",
        "html = \"<p>This is a </b>bold</b> paragraph.</p>\"\n",
        "pattern = r\"<.*?>\"\n",
        "clean_text = re.sub(pattern, \"\", html)\n",
        "print(\"태그 제거 후 텍스트\", clean_text)"
      ],
      "metadata": {
        "colab": {
          "base_uri": "https://localhost:8080/"
        },
        "id": "TudYd3xMEzNb",
        "outputId": "702a7a3a-00be-4351-db4b-41c0f5cf04c9"
      },
      "execution_count": 12,
      "outputs": [
        {
          "output_type": "stream",
          "name": "stdout",
          "text": [
            "이메일: ['support@example.com', 'sales@example.com']\n",
            "태그 제거 후 텍스트 This is a bold paragraph.\n"
          ]
        }
      ]
    },
    {
      "cell_type": "markdown",
      "source": [
        "이 코드는 Python의 re 모듈을 사용하여 정규 표현식(Regex)을 활용한 텍스트 처리 예시입니다.\n",
        "\n",
        "- 이메일 추출:\n",
        "    - 정규 표현식을 사용해 문자열에서 이메일 주소를 추출합니다.\n",
        "    - pattern은 이메일 형식을 정의하는 정규식입니다.\n",
        "    - re.findall은 주어진 텍스트에서 이 패턴에 맞는 모든 문자열을 찾아 리스트로 반환합니다.\n",
        "- HTML 태그 제거:\n",
        "    - HTML 문자열에서 태그를 제거합니다.\n",
        "    - pattern은 HTML 태그를 인식하는 정규식입니다.\n",
        "    - re.sub는 패턴에 맞는 부분을 빈 문자열로 대체하여 태그를 제거합니다.\n",
        "\n",
        "이 코드는 re 모듈의 정규 표현식을 사용하여 텍스트에서 이메일 주소를 추출하고, HTML 태그를 제거하는 방법을 보여줍니다. 정규 표현식은 텍스트 데이터의 검색, 추출, 변환 등에 매우 유용한 도구입니다."
      ],
      "metadata": {
        "id": "Wi-3c-_3vHqP"
      }
    },
    {
      "cell_type": "code",
      "source": [
        "import threading\n",
        "import time\n",
        "\n",
        "A = 0\n",
        "# 숫자를 출력하는 함수\n",
        "def print_numbers():\n",
        "    global A\n",
        "    for i in range(5):\n",
        "        print(\"i:\", i)\n",
        "        print(\"공통A: \", A)\n",
        "        A+=1\n",
        "        time.sleep(1)\n",
        "\n",
        "# 두 개의 스레드 생성 및 시작\n",
        "thread1 = threading.Thread(target=print_numbers)\n",
        "thread2 = threading.Thread(target=print_numbers)\n",
        "thread1.start()\n",
        "thread2.start()\n",
        "thread1.join()\n",
        "thread2.join()"
      ],
      "metadata": {
        "colab": {
          "base_uri": "https://localhost:8080/"
        },
        "id": "zdS6wc_9F5Zl",
        "outputId": "1a7a866d-afb8-42f9-ba32-e01fad91e7ba"
      },
      "execution_count": 13,
      "outputs": [
        {
          "output_type": "stream",
          "name": "stdout",
          "text": [
            "i: 0\n",
            "공통A:  0\n",
            "i: 0\n",
            "공통A:  1\n",
            "i: 1\n",
            "공통A:  2\n",
            "i: 1\n",
            "공통A:  3\n",
            "i: 2\n",
            "공통A:  4\n",
            "i: 2\n",
            "공통A:  5\n",
            "i: 3\n",
            "공통A:  6\n",
            "i: 3\n",
            "공통A:  7\n",
            "i: 4\n",
            "공통A:  8\n",
            "i: 4\n",
            "공통A:  9\n"
          ]
        }
      ]
    },
    {
      "cell_type": "markdown",
      "source": [
        "이 코드는 Python의 threading 모듈을 사용하여 두 개의 스레드를 생성하고 실행하는 예시입니다.\n",
        "- 글로벌 변수 A:\n",
        "    - A는 스레드 간에 공유되는 전역 변수입니다. 각 스레드는 이 변수를 수정할 수 있습니다.\n",
        "- print_numbers 함수:\n",
        "    - 이 함수는 5번 반복하면서 숫자 i와 A의 현재 값을 출력하고, A를 1씩 증가시킵니다. 각 반복 후 1초 동안 대기합니다.\n",
        "- 스레드 생성 및 실행:\n",
        "    - thread1과 thread2는 print_numbers 함수를 실행하는 두 개의 스레드입니다.\n",
        "    - thread1.start()와 thread2.start()를 통해 스레드를 시작합니다.\n",
        "    - thread1.join()과 thread2.join()은 각 스레드가 완료될 때까지 메인 프로그램의 실행을 멈추게 합니다.\n",
        "\n",
        "이 코드에서는 두 스레드가 동일한 전역 변수 A를 동시에 수정하기 때문에 **경쟁 상태(race condition)**가 발생할 수 있습니다. 스레드 안전성을 보장하려면 threading.Lock과 같은 동기화 기법을 사용하여 전역 변수 접근을 관리해야 합니다.\n",
        "\n",
        "Python의 time 모듈에 있는 sleep 함수는 지정된 시간 동안 프로그램 실행을 일시 중지(대기)시키는 역할을 합니다. sleep 함수는 인수로 초(second) 단위의 시간을 받으며, 이 시간이 지나면 프로그램이 다시 실행을 계속합니다.\n",
        "\n",
        "예를 들어, time.sleep(1)은 프로그램을 1초 동안 대기시킵니다. 이 함수는 주로 타이밍 조절, 간격을 두고 작업을 실행하거나, 특정 시간 동안 프로그램을 멈추게 할 때 사용됩니다."
      ],
      "metadata": {
        "id": "dJtdV-PGv48M"
      }
    },
    {
      "cell_type": "markdown",
      "source": [
        "스레딩을 사용하는 주요 이유는 다음과 같습니다:\n",
        "\n",
        "- 병렬 처리: 여러 작업을 동시에 수행하여 성능을 개선.\n",
        "- 응답성 향상: 긴 작업을 별도 스레드에서 처리하여 프로그램이 사용자 입력에 빠르게 응답.\n",
        "- I/O 효율화: I/O 작업을 별도 스레드에서 처리하여 CPU가 다른 작업을 계속 수행 가능."
      ],
      "metadata": {
        "id": "RrgUbwCrwPpt"
      }
    },
    {
      "cell_type": "code",
      "source": [
        "import multiprocessing\n",
        "import time\n",
        "\n",
        "A = 0\n",
        "# 숫자를 출력하는 함수\n",
        "def print_numbers():\n",
        "    global A\n",
        "    for i in range(5):\n",
        "        print(\"i:\", i)\n",
        "        print(\"공통A:\", A)\n",
        "        A+=1\n",
        "        time.sleep(1)\n",
        "\n",
        "process1 = multiprocessing.Process(target=print_numbers)\n",
        "process2 = multiprocessing.Process(target=print_numbers)\n",
        "process1.start()\n",
        "process2.start()\n",
        "process1.join()\n",
        "process2.join()"
      ],
      "metadata": {
        "colab": {
          "base_uri": "https://localhost:8080/"
        },
        "id": "5qOYV7e9G2jh",
        "outputId": "c0469ac8-f9d9-43b8-de11-3bdbb1187e4b"
      },
      "execution_count": 14,
      "outputs": [
        {
          "output_type": "stream",
          "name": "stdout",
          "text": [
            "i: 0i: \n",
            "0\n",
            "공통A:공통A: 0 0\n",
            "\n",
            "i: i:1\n",
            " 공통A:1\n",
            " 공통A:1 \n",
            "1\n",
            "i: 2i:\n",
            " 공통A: 22\n",
            "\n",
            "공통A: 2\n",
            "i:i:  33\n",
            "\n",
            "공통A:공통A:  33\n",
            "\n",
            "i: i: 44\n",
            "\n",
            "공통A:공통A:  44\n",
            "\n"
          ]
        }
      ]
    },
    {
      "cell_type": "markdown",
      "source": [
        "이 코드는 Python의 multiprocessing 모듈을 사용하여 두 개의 프로세스를 생성하고 실행하는 예제입니다.\n",
        "\n",
        "- 전역 변수 A:\n",
        " - A는 전역 변수지만, 각 프로세스는 별도의 메모리 공간을 가지므로 A의 값은 각 프로세스에서 독립적으로 증가합니다.\n",
        "- print_numbers 함수:\n",
        "    - 이 함수는 숫자 i와 전역 변수 A를 5번 출력하고, A를 1씩 증가시킨 후 1초 대기합니다.\n",
        "- 프로세스 생성 및 실행:\n",
        "    - multiprocessing.Process를 사용하여 print_numbers 함수를 실행하는 두 개의 프로세스를 만듭니다 (process1과 process2).\n",
        "    - start() 메서드를 호출하여 각 프로세스를 시작합니다.\n",
        "    - join() 메서드를 호출하여 각 프로세스가 완료될 때까지 메인 프로그램이 기다리도록 합니다.\n",
        "\n",
        "이 코드는 두 개의 독립적인 프로세스가 병렬로 실행되며, 각 프로세스는 독립적인 메모리 공간을 사용하므로 전역 변수 A의 값이 공유되지 않습니다. multiprocessing을 통해 병렬 처리와 멀티코어 활용이 가능합니다.\n",
        "\n",
        "\n",
        "\n",
        "\n",
        "\n",
        "\n"
      ],
      "metadata": {
        "id": "R0gAhTcrwaA5"
      }
    },
    {
      "cell_type": "markdown",
      "source": [
        "프로세싱은 작업을 수행하는 과정 자체를 의미하며, 멀티프로세싱은 여러 작업을 동시에 수행하는 것을 의미합니다.\n",
        "\n",
        "### 프로세싱 (Processing)\n",
        "\n",
        "- **일반적인 개념**: 프로세싱은 프로그램이 작업을 수행하는 모든 과정입니다. 이는 단일 프로세스에서 순차적으로 작업을 처리하는 경우를 포함합니다.\n",
        "- **단일 프로세스**: 프로그램은 하나의 프로세스에서 모든 작업을 수행합니다. 이 방식에서는 작업이 순차적으로 처리되며, 멀티코어 CPU를 사용하더라도 하나의 코어만을 활용하게 됩니다.\n",
        "\n",
        "### 멀티프로세싱 (Multiprocessing)\n",
        "\n",
        "- **동시성**: 멀티프로세싱은 여러 개의 프로세스를 동시에 실행하여 작업을 병렬로 처리합니다. 각 프로세스는 독립적인 메모리 공간을 가지며, 여러 CPU 코어를 사용할 수 있어 성능을 극대화할 수 있습니다.\n",
        "- **병렬 처리**: 멀티코어 시스템에서 여러 프로세스를 동시에 실행하여 작업을 병렬로 처리함으로써 전체 처리 시간을 줄입니다.\n",
        "- **독립성**: 각 프로세스는 서로 독립적으로 실행되며, 하나의 프로세스가 오류를 일으켜도 다른 프로세스에 영향을 미치지 않습니다.\n",
        "\n",
        "### 주요 차이점\n",
        "\n",
        "1. **코어 사용**:\n",
        "    - 프로세싱: 단일 프로세스에서는 일반적으로 하나의 CPU 코어만 사용합니다.\n",
        "    - 멀티프로세싱: 여러 프로세스를 통해 여러 CPU 코어를 동시에 활용할 수 있습니다.\n",
        "2. **자원 공유**:\n",
        "    - 프로세싱: 단일 프로세스 내에서는 자원을 공유하며, 경쟁 상태나 동기화 문제가 발생할 수 있습니다.\n",
        "    - 멀티프로세싱: 각 프로세스는 독립적인 메모리 공간을 가지므로, 자원 공유와 관련된 문제가 상대적으로 적습니다.\n",
        "3. **성능 및 안정성**:\n",
        "    - 멀티프로세싱은 특히 CPU 집약적인 작업에서 성능을 크게 향상시킬 수 있으며, 프로세스 간의 독립성으로 인해 하나의 프로세스 실패가 전체 프로그램에 미치는 영향을 최소화할 수 있습니다."
      ],
      "metadata": {
        "id": "4ScEWmWyxp4W"
      }
    }
  ]
}